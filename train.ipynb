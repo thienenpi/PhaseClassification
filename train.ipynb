{
 "cells": [
  {
   "cell_type": "code",
   "execution_count": null,
   "metadata": {},
   "outputs": [],
   "source": [
    "import numpy as np\n",
    "import pandas as pd\n",
    "import tensorflow as tf\n",
    "from sklearn.model_selection import train_test_split\n",
    "from sklearn.linear_model import LinearRegression\n",
    "from sklearn.ensemble import RandomForestRegressor\n",
    "from sklearn import svm\n",
    "from sklearn.metrics import mean_squared_error, r2_score\n",
    "from sklearn.preprocessing import StandardScaler"
   ]
  },
  {
   "cell_type": "markdown",
   "metadata": {},
   "source": [
    "Chấm điểm"
   ]
  },
  {
   "cell_type": "code",
   "execution_count": null,
   "metadata": {},
   "outputs": [],
   "source": [
    "df = pd.read_csv('./dataset/error/angles.csv')\n",
    "df = df.drop('Unnamed: 0', axis=1)\n",
    "# Convert the string representation of Angles into separate columns\n",
    "df['Angles'] = df['Angles'].apply(lambda x: [int(val) for val in x.strip('[]').split(', ')])\n",
    "\n",
    "# Split the Angles list into separate columns\n",
    "df = pd.concat([df, df['Angles'].apply(pd.Series)], axis=1)\n",
    "df.drop('Angles', axis=1, inplace=True)\n",
    "\n",
    "# Convert the Phase column to integers\n",
    "df['Phase'] = df['Phase'].astype(int)\n",
    "df['Score'] = df['Score'].astype(int)\n",
    "df.columns = df.columns.astype(str)\n",
    "df"
   ]
  },
  {
   "cell_type": "markdown",
   "metadata": {},
   "source": [
    "LR"
   ]
  },
  {
   "cell_type": "code",
   "execution_count": null,
   "metadata": {},
   "outputs": [],
   "source": [
    "features = np.array(df[['Phase', '0', '1', '2', '3', '4', '5', '6', '7']])\n",
    "labels = np.array(df['Score'])\n",
    "Xtrain, Xtest, Ytrain, Ytest = train_test_split(features, labels, test_size=0.2, random_state=42)"
   ]
  },
  {
   "cell_type": "code",
   "execution_count": null,
   "metadata": {},
   "outputs": [],
   "source": [
    "model = LinearRegression()\n",
    "reg = model.fit(Xtrain, Ytrain)\n",
    "Ypred = reg.predict(Xtest)\n",
    "Ypred = Ypred.astype(int)"
   ]
  },
  {
   "cell_type": "code",
   "execution_count": null,
   "metadata": {},
   "outputs": [],
   "source": [
    "Ypred"
   ]
  },
  {
   "cell_type": "code",
   "execution_count": null,
   "metadata": {},
   "outputs": [],
   "source": [
    "Ytest"
   ]
  },
  {
   "cell_type": "code",
   "execution_count": null,
   "metadata": {},
   "outputs": [],
   "source": [
    "# Đánh giá độ chính xác\n",
    "wrongPre = 0\n",
    "totalPre = len(Ypred)\n",
    "eps = 5\n",
    "for i in range(totalPre):\n",
    "    if abs(Ypred[i] - Ytest[i]) > 5:\n",
    "        wrongPre += 1\n",
    "\n",
    "print(f'Accuracy: {(1 - wrongPre / totalPre) * 100:.2f}%')"
   ]
  },
  {
   "cell_type": "markdown",
   "metadata": {},
   "source": [
    "SVR"
   ]
  },
  {
   "cell_type": "code",
   "execution_count": null,
   "metadata": {},
   "outputs": [],
   "source": [
    "features = np.array(df[['Phase', '0', '1', '2', '3', '4', '5', '6', '7']])\n",
    "labels = np.array(df['Score'])\n",
    "Xtrain, Xtest, Ytrain, Ytest = train_test_split(features, labels, test_size=0.2, random_state=42)"
   ]
  },
  {
   "cell_type": "code",
   "execution_count": null,
   "metadata": {},
   "outputs": [],
   "source": [
    "svr = svm.SVR(kernel='linear')\n",
    "svr.fit(Xtrain, Ytrain)\n",
    "Ypred = svr.predict(Xtest)\n",
    "Ypred = Ypred.astype(int)"
   ]
  },
  {
   "cell_type": "code",
   "execution_count": null,
   "metadata": {},
   "outputs": [],
   "source": [
    "Ypred"
   ]
  },
  {
   "cell_type": "code",
   "execution_count": null,
   "metadata": {},
   "outputs": [],
   "source": [
    "Ytest"
   ]
  },
  {
   "cell_type": "code",
   "execution_count": null,
   "metadata": {},
   "outputs": [],
   "source": [
    "# Đánh giá độ chính xác\n",
    "wrongPre = 0\n",
    "totalPre = len(Ypred)\n",
    "eps = 5\n",
    "for i in range(totalPre):\n",
    "    if abs(Ypred[i] - Ytest[i]) > 5:\n",
    "        wrongPre += 1\n",
    "\n",
    "print(f'Accuracy: {(1 - wrongPre / totalPre) * 100:.2f}%')"
   ]
  },
  {
   "cell_type": "markdown",
   "metadata": {},
   "source": [
    "TensorFlow"
   ]
  },
  {
   "cell_type": "code",
   "execution_count": null,
   "metadata": {},
   "outputs": [],
   "source": [
    "features = np.array(df[['Phase', '0', '1', '2', '3', '4', '5', '6', '7']].values)\n",
    "labels = np.array(df['Score'].values)\n",
    "Xtrain, Xtest, Ytrain, Ytest = train_test_split(features, labels, test_size=0.2, random_state=42)"
   ]
  },
  {
   "cell_type": "code",
   "execution_count": null,
   "metadata": {},
   "outputs": [],
   "source": [
    "# Chuẩn hoá dữ liệu\n",
    "scaler = StandardScaler()\n",
    "Xtrain = scaler.fit_transform(Xtrain)\n",
    "Xtest = scaler.transform(Xtest)"
   ]
  },
  {
   "cell_type": "code",
   "execution_count": null,
   "metadata": {},
   "outputs": [],
   "source": [
    "# Xây dựng mô hình mạng neural\n",
    "model = tf.keras.Sequential([\n",
    "    tf.keras.layers.Input(shape=(9,)),  # Số lượng đặc trưng đầu vào\n",
    "    tf.keras.layers.Dense(64, activation='relu'),  # Lớp ẩn với 64 đơn vị ẩn\n",
    "    tf.keras.layers.Dense(32, activation='relu'),  # Lớp ẩn với 32 đơn vị ẩn\n",
    "    tf.keras.layers.Dense(1)  # Lớp đầu ra với 1 đơn vị (Regression)\n",
    "])"
   ]
  },
  {
   "cell_type": "code",
   "execution_count": null,
   "metadata": {},
   "outputs": [],
   "source": [
    "# Biên dịch mô hình\n",
    "model.compile(optimizer='adam', loss='mean_squared_error')\n",
    "\n",
    "# Huấn luyện mô hình\n",
    "model.fit(Xtrain, Ytrain, epochs=50, batch_size=32, validation_data=(Xtest, Ytest))\n",
    "\n",
    "# Đánh giá hiệu suất của mô hình\n",
    "loss = model.evaluate(Xtest, Ytest)\n",
    "print(f\"Loss on test data: {loss}\")"
   ]
  },
  {
   "cell_type": "code",
   "execution_count": null,
   "metadata": {},
   "outputs": [],
   "source": [
    "# Đánh giá độ chính xác\n",
    "wrongPre = 0\n",
    "totalPre = len(Ypred)\n",
    "eps = 5\n",
    "for i in range(totalPre):\n",
    "    if abs(Ypred[i] - Ytest[i]) > 5:\n",
    "        wrongPre += 1\n",
    "\n",
    "print(f'Accuracy: {(1 - wrongPre / totalPre) * 100:.2f}%')"
   ]
  },
  {
   "cell_type": "markdown",
   "metadata": {},
   "source": [
    "Random Forest"
   ]
  },
  {
   "cell_type": "code",
   "execution_count": null,
   "metadata": {},
   "outputs": [],
   "source": [
    "features = np.array(df[['Phase', '0', '1', '2', '3', '4', '5', '6', '7']].values)\n",
    "labels = np.array(df['Score'].values)\n",
    "Xtrain, Xtest, Ytrain, Ytest = train_test_split(features, labels, test_size=0.2, random_state=42)"
   ]
  },
  {
   "cell_type": "code",
   "execution_count": null,
   "metadata": {},
   "outputs": [],
   "source": [
    "# Tạo mô hình Random Forest Regression\n",
    "rf_model = RandomForestRegressor(n_estimators=100, random_state=42)  # Bạn có thể tùy chỉnh số cây và các siêu tham số khác\n",
    "\n",
    "# Huấn luyện mô hình trên tập huấn luyện\n",
    "rf_model.fit(Xtrain, Ytrain)\n",
    "\n",
    "# Dự đoán trên tập kiểm tra\n",
    "Ypred = rf_model.predict(Xtest)\n",
    "\n",
    "# Đánh giá mô hình\n",
    "mse = mean_squared_error(Ytest, Ypred)\n",
    "r2 = r2_score(Ytest, Ypred)\n",
    "\n",
    "print(f\"Mean Squared Error (MSE): {mse}\")\n",
    "print(f\"R-squared (R2): {r2}\")"
   ]
  },
  {
   "cell_type": "code",
   "execution_count": null,
   "metadata": {},
   "outputs": [],
   "source": [
    "# Đánh giá độ chính xác\n",
    "wrongPre = 0\n",
    "totalPre = len(Ypred)\n",
    "eps = 5\n",
    "for i in range(totalPre):\n",
    "    if abs(Ypred[i] - Ytest[i]) > 5:\n",
    "        wrongPre += 1\n",
    "\n",
    "print(f'Accuracy: {(1 - wrongPre / totalPre) * 100:.2f}%')"
   ]
  }
 ],
 "metadata": {
  "kernelspec": {
   "display_name": "Python 3",
   "language": "python",
   "name": "python3"
  },
  "language_info": {
   "codemirror_mode": {
    "name": "ipython",
    "version": 3
   },
   "file_extension": ".py",
   "mimetype": "text/x-python",
   "name": "python",
   "nbconvert_exporter": "python",
   "pygments_lexer": "ipython3",
   "version": "3.10.12"
  }
 },
 "nbformat": 4,
 "nbformat_minor": 2
}
