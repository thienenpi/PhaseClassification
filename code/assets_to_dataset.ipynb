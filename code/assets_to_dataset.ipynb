{
 "cells": [
  {
   "cell_type": "code",
   "execution_count": 12,
   "metadata": {},
   "outputs": [],
   "source": [
    "import cv2\n",
    "import os\n",
    "import mediapipe as mp\n",
    "import pandas as pd\n",
    "from lib.utilities import *\n",
    "from lib.joint_angles import JointAngle\n",
    "from lib.body_parts import BodyPart"
   ]
  },
  {
   "cell_type": "code",
   "execution_count": 13,
   "metadata": {},
   "outputs": [],
   "source": [
    "n = 8\n",
    "angles = [0] * n\n",
    "bp = BodyPart()"
   ]
  },
  {
   "cell_type": "code",
   "execution_count": 14,
   "metadata": {},
   "outputs": [],
   "source": [
    "mpPose = mp.solutions.pose\n",
    "video = '../assets/sample-video/sample-video01.mp4'\n",
    "cap = cv2.VideoCapture(video)"
   ]
  },
  {
   "cell_type": "code",
   "execution_count": 15,
   "metadata": {},
   "outputs": [],
   "source": [
    "data = {\n",
    "    'Angles': [],\n",
    "    'Phase': [],\n",
    "    'Correction': []\n",
    "}"
   ]
  },
  {
   "cell_type": "code",
   "execution_count": 16,
   "metadata": {},
   "outputs": [
    {
     "ename": "error",
     "evalue": "OpenCV(4.6.0) /Users/runner/work/opencv-python/opencv-python/opencv/modules/imgcodecs/src/loadsave.cpp:801: error: (-215:Assertion failed) !_img.empty() in function 'imwrite'\n",
     "output_type": "error",
     "traceback": [
      "\u001b[0;31m---------------------------------------------------------------------------\u001b[0m",
      "\u001b[0;31merror\u001b[0m                                     Traceback (most recent call last)",
      "\u001b[1;32m/Users/thiennguyen/Documents/Science Research/IncorrectClassification/code/assets_to_dataset.ipynb Cell 5\u001b[0m line \u001b[0;36m1\n\u001b[1;32m      <a href='vscode-notebook-cell:/Users/thiennguyen/Documents/Science%20Research/IncorrectClassification/code/assets_to_dataset.ipynb#X20sZmlsZQ%3D%3D?line=8'>9</a>\u001b[0m frameName \u001b[39m=\u001b[39m \u001b[39mf\u001b[39m\u001b[39m'\u001b[39m\u001b[39mframe_\u001b[39m\u001b[39m{\u001b[39;00mframeCnt\u001b[39m}\u001b[39;00m\u001b[39m.jpg\u001b[39m\u001b[39m'\u001b[39m\n\u001b[1;32m     <a href='vscode-notebook-cell:/Users/thiennguyen/Documents/Science%20Research/IncorrectClassification/code/assets_to_dataset.ipynb#X20sZmlsZQ%3D%3D?line=9'>10</a>\u001b[0m framePath \u001b[39m=\u001b[39m os\u001b[39m.\u001b[39mpath\u001b[39m.\u001b[39mjoin(output_folder,frameName)\n\u001b[0;32m---> <a href='vscode-notebook-cell:/Users/thiennguyen/Documents/Science%20Research/IncorrectClassification/code/assets_to_dataset.ipynb#X20sZmlsZQ%3D%3D?line=10'>11</a>\u001b[0m cv2\u001b[39m.\u001b[39;49mimwrite(framePath, image)\n\u001b[1;32m     <a href='vscode-notebook-cell:/Users/thiennguyen/Documents/Science%20Research/IncorrectClassification/code/assets_to_dataset.ipynb#X20sZmlsZQ%3D%3D?line=11'>12</a>\u001b[0m frameCnt \u001b[39m+\u001b[39m\u001b[39m=\u001b[39m \u001b[39m1\u001b[39m\n\u001b[1;32m     <a href='vscode-notebook-cell:/Users/thiennguyen/Documents/Science%20Research/IncorrectClassification/code/assets_to_dataset.ipynb#X20sZmlsZQ%3D%3D?line=13'>14</a>\u001b[0m image \u001b[39m=\u001b[39m cv2\u001b[39m.\u001b[39mcvtColor(image, cv2\u001b[39m.\u001b[39mCOLOR_BGR2RGB)\n",
      "\u001b[0;31merror\u001b[0m: OpenCV(4.6.0) /Users/runner/work/opencv-python/opencv-python/opencv/modules/imgcodecs/src/loadsave.cpp:801: error: (-215:Assertion failed) !_img.empty() in function 'imwrite'\n"
     ]
    }
   ],
   "source": [
    "output_folder = '../assets/sample-frames/sample-video01/'\n",
    "os.makedirs(output_folder, exist_ok=True)\n",
    "frameCnt = 0\n",
    "\n",
    "with mpPose.Pose(min_detection_confidence=0.75, min_tracking_confidence=0.75) as pose:\n",
    "    while cap.isOpened():\n",
    "        ret, image = cap.read()\n",
    "\n",
    "        frameName = f'frame_{frameCnt}.jpg'\n",
    "        framePath = os.path.join(output_folder,frameName)\n",
    "        cv2.imwrite(framePath, image)\n",
    "        frameCnt += 1\n",
    "\n",
    "        image = cv2.cvtColor(image, cv2.COLOR_BGR2RGB)\n",
    "        image.flags.writeable = False\n",
    "\n",
    "        results = pose.process(image)\n",
    "\n",
    "        image = cv2.cvtColor(image, cv2.COLOR_RGB2BGR)\n",
    "        image.flags.writeable = True\n",
    "        \n",
    "        try:\n",
    "            lm = results.pose_landmarks.landmark\n",
    "            jointAngle = JointAngle(lm)\n",
    "            bp.cords = detect_joints(lm)\n",
    "            angles = jointAngle.body_angles(bp)\n",
    "            data['Angles'].append(angles)\n",
    "            data['Phase'].append(None)\n",
    "            data['Correction'].append('Widen your legs')\n",
    "        except:\n",
    "            pass"
   ]
  },
  {
   "cell_type": "code",
   "execution_count": 11,
   "metadata": {},
   "outputs": [],
   "source": [
    "df = pd.DataFrame(data)\n",
    "df\n",
    "df.to_csv('../dataset/standard/barbellCurl.csv')"
   ]
  },
  {
   "cell_type": "code",
   "execution_count": null,
   "metadata": {},
   "outputs": [],
   "source": [
    "df"
   ]
  },
  {
   "cell_type": "code",
   "execution_count": null,
   "metadata": {},
   "outputs": [],
   "source": [
    "PhaseName = {\n",
    "    'Null': 0,\n",
    "    'Down': 1,\n",
    "    'Up': 2\n",
    "}\n",
    "\n",
    "CorrectionName = {\n",
    "    'Good': 0,\n",
    "    'Move up - Left Arm': 1,\n",
    "    'Move up - Right Arm': 2,\n",
    "    'Move down - Left Arm': 3,\n",
    "    'Move down - Right Arm': 4,\n",
    "    'Move left - Left Arm': 5,\n",
    "    'Move left - Right Arm': 6,\n",
    "    'Move right - Left Arm': 7,\n",
    "    'Move right - Right Arm': 8,\n",
    "    # 'Widen your legs': 9\n",
    "}"
   ]
  },
  {
   "cell_type": "code",
   "execution_count": null,
   "metadata": {},
   "outputs": [],
   "source": [
    "\n",
    "fileName = '../dataset/angles.csv'\n",
    "df = pd.read_csv(fileName)\n",
    "\n",
    "for i in range(len(df['Phase'])):\n",
    "    df['Phase'][i] = PhaseName[df['Phase'][i]]"
   ]
  },
  {
   "cell_type": "code",
   "execution_count": null,
   "metadata": {},
   "outputs": [],
   "source": [
    "df = df.drop('Unnamed: 0', axis=1)\n",
    "df.to_csv('../dataset/angles_final.csv')"
   ]
  }
 ],
 "metadata": {
  "kernelspec": {
   "display_name": "Python 3",
   "language": "python",
   "name": "python3"
  },
  "language_info": {
   "codemirror_mode": {
    "name": "ipython",
    "version": 3
   },
   "file_extension": ".py",
   "mimetype": "text/x-python",
   "name": "python",
   "nbconvert_exporter": "python",
   "pygments_lexer": "ipython3",
   "version": "3.10.12"
  }
 },
 "nbformat": 4,
 "nbformat_minor": 2
}
