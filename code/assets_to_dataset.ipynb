{
 "cells": [
  {
   "cell_type": "code",
   "execution_count": 1,
   "metadata": {},
   "outputs": [],
   "source": [
    "import cv2\n",
    "import os\n",
    "import mediapipe as mp\n",
    "import pandas as pd\n",
    "from utilities import *\n",
    "from joint_angles import JointAngle\n",
    "from body_parts import BodyPart"
   ]
  },
  {
   "cell_type": "code",
   "execution_count": null,
   "metadata": {},
   "outputs": [],
   "source": [
    "n = 8\n",
    "angles = [0] * n\n",
    "bp = BodyPart()"
   ]
  },
  {
   "cell_type": "code",
   "execution_count": null,
   "metadata": {},
   "outputs": [],
   "source": [
    "mpPose = mp.solutions.pose\n",
    "video = '../assets/sample-video/sample-video05.mp4'\n",
    "cap = cv2.VideoCapture(video)"
   ]
  },
  {
   "cell_type": "code",
   "execution_count": null,
   "metadata": {},
   "outputs": [],
   "source": [
    "data = {\n",
    "    'Angles': [],\n",
    "    'Phase': [],\n",
    "    'Score': []\n",
    "}"
   ]
  },
  {
   "cell_type": "code",
   "execution_count": null,
   "metadata": {},
   "outputs": [],
   "source": [
    "output_folder = '../assets/sample-frames/sample-video05/'\n",
    "os.makedirs(output_folder, exist_ok=True)\n",
    "frameCnt = 0\n",
    "\n",
    "with mpPose.Pose(min_detection_confidence=0.75, min_tracking_confidence=0.75) as pose:\n",
    "    while cap.isOpened():\n",
    "        ret, image = cap.read()\n",
    "\n",
    "        frameName = f'frame_{frameCnt}.jpg'\n",
    "        framePath = os.path.join(output_folder,frameName)\n",
    "        cv2.imwrite(framePath, image)\n",
    "        frameCnt += 1\n",
    "\n",
    "        image = cv2.cvtColor(image, cv2.COLOR_BGR2RGB)\n",
    "        image.flags.writeable = False\n",
    "\n",
    "        results = pose.process(image)\n",
    "\n",
    "        image = cv2.cvtColor(image, cv2.COLOR_RGB2BGR)\n",
    "        image.flags.writeable = True\n",
    "        \n",
    "        try:\n",
    "            lm = results.pose_landmarks.landmark\n",
    "            jointAngle = JointAngle(lm)\n",
    "            bp.cords = detect_joints(lm)\n",
    "            angles = jointAngle.body_angles(bp)\n",
    "            data['Angles'].append(angles)\n",
    "            data['Phase'].append(None)\n",
    "            data['Score'].append(None)\n",
    "        except:\n",
    "            pass"
   ]
  },
  {
   "cell_type": "code",
   "execution_count": null,
   "metadata": {},
   "outputs": [],
   "source": [
    "df = pd.DataFrame(data)\n",
    "df\n",
    "df.to_csv('../dataset/angles05.csv')"
   ]
  },
  {
   "cell_type": "code",
   "execution_count": null,
   "metadata": {},
   "outputs": [],
   "source": [
    "df"
   ]
  },
  {
   "cell_type": "code",
   "execution_count": null,
   "metadata": {},
   "outputs": [],
   "source": [
    "PhaseName = {\n",
    "    'Down': 1,\n",
    "    'Null': 0,\n",
    "    'Up': 2\n",
    "}\n",
    "\n",
    "fileName = '../dataset/angles.csv'\n",
    "df = pd.read_csv(fileName)\n",
    "\n",
    "for i in range(len(df['Phase'])):\n",
    "    df['Phase'][i] = PhaseName[df['Phase'][i]]"
   ]
  },
  {
   "cell_type": "code",
   "execution_count": 14,
   "metadata": {},
   "outputs": [],
   "source": [
    "df = df.drop('Unnamed: 0', axis=1)\n",
    "df.to_csv('../dataset/angles_final.csv')"
   ]
  }
 ],
 "metadata": {
  "kernelspec": {
   "display_name": "Python 3",
   "language": "python",
   "name": "python3"
  },
  "language_info": {
   "codemirror_mode": {
    "name": "ipython",
    "version": 3
   },
   "file_extension": ".py",
   "mimetype": "text/x-python",
   "name": "python",
   "nbconvert_exporter": "python",
   "pygments_lexer": "ipython3",
   "version": "3.10.12"
  }
 },
 "nbformat": 4,
 "nbformat_minor": 2
}
