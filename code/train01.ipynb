{
 "cells": [
  {
   "cell_type": "code",
   "execution_count": 1,
   "metadata": {},
   "outputs": [
    {
     "name": "stderr",
     "output_type": "stream",
     "text": [
      "2023-10-21 13:42:31.690894: I tensorflow/core/platform/cpu_feature_guard.cc:182] This TensorFlow binary is optimized to use available CPU instructions in performance-critical operations.\n",
      "To enable the following instructions: AVX2 AVX512F AVX512_VNNI FMA, in other operations, rebuild TensorFlow with the appropriate compiler flags.\n"
     ]
    }
   ],
   "source": [
    "import numpy as np\n",
    "import cv2\n",
    "import random\n",
    "import pandas as pd\n",
    "import tensorflow as tf\n",
    "import pickle\n",
    "import ast\n",
    "from sklearn.model_selection import train_test_split\n",
    "from sklearn.linear_model import LinearRegression\n",
    "from sklearn.ensemble import RandomForestRegressor\n",
    "from sklearn.cluster import KMeans\n",
    "from sklearn import svm\n",
    "from sklearn.tree import DecisionTreeClassifier\n",
    "from sklearn.metrics import accuracy_score, mean_squared_error, r2_score\n",
    "from sklearn.preprocessing import StandardScaler\n",
    "from moviepy.editor import VideoFileClip"
   ]
  },
  {
   "cell_type": "code",
   "execution_count": null,
   "metadata": {},
   "outputs": [],
   "source": [
    "good = '../dataset/error/good.csv'\n",
    "misalignedHands = '../dataset/error/misaligned_hands.csv'\n",
    "narrowLegs = '../dataset/error/narrow_legs.csv'"
   ]
  },
  {
   "cell_type": "code",
   "execution_count": null,
   "metadata": {},
   "outputs": [],
   "source": [
    "df1 = pd.read_csv(good)\n",
    "df2 = pd.read_csv(misalignedHands)\n",
    "df3 = pd.read_csv(narrowLegs)"
   ]
  },
  {
   "cell_type": "code",
   "execution_count": null,
   "metadata": {},
   "outputs": [],
   "source": [
    "df = pd.concat([df1, df2], ignore_index=True)\n",
    "df = pd.concat([df, df3], ignore_index=True)\n",
    "df = df.drop(columns='Unnamed: 0', axis=1)\n",
    "df"
   ]
  },
  {
   "cell_type": "code",
   "execution_count": null,
   "metadata": {},
   "outputs": [],
   "source": [
    "newDataset = '../dataset/error/angles.csv'\n",
    "df.to_csv(newDataset)"
   ]
  },
  {
   "cell_type": "markdown",
   "metadata": {},
   "source": [
    "Chữa động tác"
   ]
  },
  {
   "cell_type": "code",
   "execution_count": null,
   "metadata": {},
   "outputs": [],
   "source": [
    "df = pd.read_csv('../dataset/error/angles.csv')\n",
    "df = df.drop('Unnamed: 0', axis=1)\n",
    "# Convert the string representation of Angles into separate columns\n",
    "df['Angles'] = df['Angles'].apply(lambda x: [int(val) for val in x.strip('[]').split(', ')])\n",
    "\n",
    "# Split the Angles list into separate columns\n",
    "df = pd.concat([df, df['Angles'].apply(pd.Series)], axis=1)\n",
    "df.drop('Angles', axis=1, inplace=True)\n",
    "\n",
    "# Convert the Phase column to integers\n",
    "df['Phase'] = df['Phase'].astype(int)\n",
    "df['Correction'] = df['Correction'].astype(int)\n",
    "df.columns = df.columns.astype(str)\n",
    "df"
   ]
  },
  {
   "cell_type": "code",
   "execution_count": null,
   "metadata": {},
   "outputs": [],
   "source": [
    "features = df[['Phase', '0', '1', '2', '3', '4', '5', '6', '7']]\n",
    "labels = df['Correction']"
   ]
  },
  {
   "cell_type": "code",
   "execution_count": null,
   "metadata": {},
   "outputs": [],
   "source": [
    "Xtrain, Xtest, Ytrain, Ytest = train_test_split(features, labels, test_size=0.2, random_state=42)"
   ]
  },
  {
   "cell_type": "code",
   "execution_count": null,
   "metadata": {},
   "outputs": [],
   "source": [
    "clf = DecisionTreeClassifier()\n",
    "clf.fit(Xtrain, Ytrain)"
   ]
  },
  {
   "cell_type": "code",
   "execution_count": null,
   "metadata": {},
   "outputs": [],
   "source": [
    "Ypred = clf.predict(Xtest)\n",
    "accuracy = accuracy_score(Ytest, Ypred)\n",
    "print(f\"Accuracy: {accuracy}\")"
   ]
  },
  {
   "cell_type": "code",
   "execution_count": null,
   "metadata": {},
   "outputs": [],
   "source": [
    "Ypred"
   ]
  },
  {
   "cell_type": "code",
   "execution_count": null,
   "metadata": {},
   "outputs": [],
   "source": [
    "np.array(Ytest)"
   ]
  },
  {
   "cell_type": "code",
   "execution_count": null,
   "metadata": {},
   "outputs": [],
   "source": [
    "Xtest = Xtest.sort_index()\n",
    "Ytest = Ytest.sort_index()"
   ]
  },
  {
   "cell_type": "code",
   "execution_count": null,
   "metadata": {},
   "outputs": [],
   "source": [
    "clf.predict(Xtest.loc[5:25])"
   ]
  },
  {
   "cell_type": "code",
   "execution_count": null,
   "metadata": {},
   "outputs": [],
   "source": [
    "Xtest.loc[5:25]"
   ]
  },
  {
   "cell_type": "code",
   "execution_count": null,
   "metadata": {},
   "outputs": [],
   "source": [
    "Ytest.loc[5:25]"
   ]
  },
  {
   "cell_type": "markdown",
   "metadata": {},
   "source": [
    "Tính gia tốc, vận tốc"
   ]
  },
  {
   "cell_type": "code",
   "execution_count": 2,
   "metadata": {},
   "outputs": [
    {
     "data": {
      "text/plain": [
       "8.44"
      ]
     },
     "execution_count": 2,
     "metadata": {},
     "output_type": "execute_result"
    }
   ],
   "source": [
    "# Đếm số giây của video\n",
    "videoPath = '../assets/sample-video/sample-video01.mp4'\n",
    "video = VideoFileClip(videoPath)\n",
    "duration = video.duration\n",
    "duration"
   ]
  },
  {
   "cell_type": "code",
   "execution_count": 3,
   "metadata": {},
   "outputs": [
    {
     "data": {
      "text/plain": [
       "253"
      ]
     },
     "execution_count": 3,
     "metadata": {},
     "output_type": "execute_result"
    }
   ],
   "source": [
    "# Đếm số frame của video\n",
    "cap = cv2.VideoCapture(videoPath)\n",
    "frameCount = int(cap.get(cv2.CAP_PROP_FRAME_COUNT))\n",
    "frameCount"
   ]
  },
  {
   "cell_type": "code",
   "execution_count": 4,
   "metadata": {},
   "outputs": [
    {
     "data": {
      "text/plain": [
       "0.03349206349206349"
      ]
     },
     "execution_count": 4,
     "metadata": {},
     "output_type": "execute_result"
    }
   ],
   "source": [
    "# Tính khoảng thời gian giữa 2 frame\n",
    "deltaT = duration / (frameCount - 1)\n",
    "deltaT"
   ]
  },
  {
   "cell_type": "code",
   "execution_count": 5,
   "metadata": {},
   "outputs": [
    {
     "data": {
      "text/html": [
       "<div>\n",
       "<style scoped>\n",
       "    .dataframe tbody tr th:only-of-type {\n",
       "        vertical-align: middle;\n",
       "    }\n",
       "\n",
       "    .dataframe tbody tr th {\n",
       "        vertical-align: top;\n",
       "    }\n",
       "\n",
       "    .dataframe thead th {\n",
       "        text-align: right;\n",
       "    }\n",
       "</style>\n",
       "<table border=\"1\" class=\"dataframe\">\n",
       "  <thead>\n",
       "    <tr style=\"text-align: right;\">\n",
       "      <th></th>\n",
       "      <th>Angles</th>\n",
       "      <th>Phase</th>\n",
       "      <th>Score</th>\n",
       "    </tr>\n",
       "  </thead>\n",
       "  <tbody>\n",
       "    <tr>\n",
       "      <th>0</th>\n",
       "      <td>[1, 176, 177, 0, 180, 15, 177, 178]</td>\n",
       "      <td>Down</td>\n",
       "      <td>100</td>\n",
       "    </tr>\n",
       "    <tr>\n",
       "      <th>1</th>\n",
       "      <td>[2, 176, 177, 0, 180, 14, 178, 178]</td>\n",
       "      <td>Down</td>\n",
       "      <td>100</td>\n",
       "    </tr>\n",
       "    <tr>\n",
       "      <th>2</th>\n",
       "      <td>[2, 176, 177, 0, 180, 14, 179, 178]</td>\n",
       "      <td>Down</td>\n",
       "      <td>100</td>\n",
       "    </tr>\n",
       "    <tr>\n",
       "      <th>3</th>\n",
       "      <td>[2, 176, 177, 0, 179, 14, 179, 178]</td>\n",
       "      <td>Down</td>\n",
       "      <td>100</td>\n",
       "    </tr>\n",
       "    <tr>\n",
       "      <th>4</th>\n",
       "      <td>[2, 176, 177, 0, 179, 14, 179, 179]</td>\n",
       "      <td>Down</td>\n",
       "      <td>100</td>\n",
       "    </tr>\n",
       "    <tr>\n",
       "      <th>...</th>\n",
       "      <td>...</td>\n",
       "      <td>...</td>\n",
       "      <td>...</td>\n",
       "    </tr>\n",
       "    <tr>\n",
       "      <th>248</th>\n",
       "      <td>[3, 175, 175, 0, 179, 14, 179, 179]</td>\n",
       "      <td>Down</td>\n",
       "      <td>100</td>\n",
       "    </tr>\n",
       "    <tr>\n",
       "      <th>249</th>\n",
       "      <td>[3, 175, 175, 0, 179, 13, 179, 179]</td>\n",
       "      <td>Down</td>\n",
       "      <td>100</td>\n",
       "    </tr>\n",
       "    <tr>\n",
       "      <th>250</th>\n",
       "      <td>[3, 175, 175, 0, 179, 14, 179, 179]</td>\n",
       "      <td>Down</td>\n",
       "      <td>100</td>\n",
       "    </tr>\n",
       "    <tr>\n",
       "      <th>251</th>\n",
       "      <td>[3, 175, 175, 0, 179, 14, 179, 179]</td>\n",
       "      <td>Down</td>\n",
       "      <td>100</td>\n",
       "    </tr>\n",
       "    <tr>\n",
       "      <th>252</th>\n",
       "      <td>[3, 175, 176, 0, 179, 14, 179, 179]</td>\n",
       "      <td>Down</td>\n",
       "      <td>100</td>\n",
       "    </tr>\n",
       "  </tbody>\n",
       "</table>\n",
       "<p>253 rows × 3 columns</p>\n",
       "</div>"
      ],
      "text/plain": [
       "                                  Angles Phase  Score\n",
       "0    [1, 176, 177, 0, 180, 15, 177, 178]  Down    100\n",
       "1    [2, 176, 177, 0, 180, 14, 178, 178]  Down    100\n",
       "2    [2, 176, 177, 0, 180, 14, 179, 178]  Down    100\n",
       "3    [2, 176, 177, 0, 179, 14, 179, 178]  Down    100\n",
       "4    [2, 176, 177, 0, 179, 14, 179, 179]  Down    100\n",
       "..                                   ...   ...    ...\n",
       "248  [3, 175, 175, 0, 179, 14, 179, 179]  Down    100\n",
       "249  [3, 175, 175, 0, 179, 13, 179, 179]  Down    100\n",
       "250  [3, 175, 175, 0, 179, 14, 179, 179]  Down    100\n",
       "251  [3, 175, 175, 0, 179, 14, 179, 179]  Down    100\n",
       "252  [3, 175, 176, 0, 179, 14, 179, 179]  Down    100\n",
       "\n",
       "[253 rows x 3 columns]"
      ]
     },
     "execution_count": 5,
     "metadata": {},
     "output_type": "execute_result"
    }
   ],
   "source": [
    "df = pd.read_csv('../dataset/standard/angles01.csv')\n",
    "df = df.drop('Unnamed: 0', axis=1)\n",
    "df"
   ]
  },
  {
   "cell_type": "code",
   "execution_count": 6,
   "metadata": {},
   "outputs": [],
   "source": [
    "df['Angles'] = df['Angles'].apply(lambda x: [int(val) for val in x.strip('[]').split(', ')])\n",
    "\n",
    "# Split the Angles list into separate columns\n",
    "df = pd.concat([df, df['Angles'].apply(pd.Series)], axis=1)\n",
    "df.drop('Angles', axis=1, inplace=True)"
   ]
  },
  {
   "cell_type": "code",
   "execution_count": 7,
   "metadata": {},
   "outputs": [],
   "source": [
    "df.columns = df.columns.astype(str)"
   ]
  },
  {
   "cell_type": "code",
   "execution_count": 13,
   "metadata": {},
   "outputs": [],
   "source": [
    "leftArms = df['1']"
   ]
  },
  {
   "cell_type": "code",
   "execution_count": 14,
   "metadata": {},
   "outputs": [],
   "source": [
    "t = []\n",
    "for i in range(len(leftArms)):\n",
    "    t.append(deltaT * i)"
   ]
  },
  {
   "cell_type": "code",
   "execution_count": 19,
   "metadata": {},
   "outputs": [
    {
     "name": "stdout",
     "output_type": "stream",
     "text": [
      "[    0     0     0     0     0     0     0     0     0     0     0   -14\n",
      "   -14   -14   -14   -14   -14   -14   -14   -14   -14   -14   -59   -74\n",
      "   -59   -59  -119  -298  -612 -1209 -1164  -507  -223  -134  -104   -59\n",
      "   -29   -14   -14   -14   -14   -14   -14   -14   -14   -14     0     0\n",
      "     0   -14   -14     0     0     0     0     0     0     0     0     0\n",
      "     0     0     0     0     0     0     0     0     0    14    14     0\n",
      "     0    14    14]\n"
     ]
    }
   ],
   "source": [
    "x = np.array(leftArms)\n",
    "t = np.array(t)\n",
    "\n",
    "# Tính đạo hàm của mảng theo t\n",
    "dx_dt = np.gradient(x, t)\n",
    "dx_dt = dx_dt.astype(int)\n",
    "print(dx_dt[0:75])"
   ]
  },
  {
   "cell_type": "markdown",
   "metadata": {},
   "source": [
    "Chấm điểm"
   ]
  },
  {
   "cell_type": "code",
   "execution_count": 20,
   "metadata": {},
   "outputs": [
    {
     "data": {
      "text/html": [
       "<div>\n",
       "<style scoped>\n",
       "    .dataframe tbody tr th:only-of-type {\n",
       "        vertical-align: middle;\n",
       "    }\n",
       "\n",
       "    .dataframe tbody tr th {\n",
       "        vertical-align: top;\n",
       "    }\n",
       "\n",
       "    .dataframe thead th {\n",
       "        text-align: right;\n",
       "    }\n",
       "</style>\n",
       "<table border=\"1\" class=\"dataframe\">\n",
       "  <thead>\n",
       "    <tr style=\"text-align: right;\">\n",
       "      <th></th>\n",
       "      <th>Phase</th>\n",
       "      <th>Correction</th>\n",
       "      <th>Score</th>\n",
       "      <th>0</th>\n",
       "      <th>1</th>\n",
       "      <th>2</th>\n",
       "      <th>3</th>\n",
       "      <th>4</th>\n",
       "      <th>5</th>\n",
       "      <th>6</th>\n",
       "      <th>7</th>\n",
       "    </tr>\n",
       "  </thead>\n",
       "  <tbody>\n",
       "    <tr>\n",
       "      <th>0</th>\n",
       "      <td>1</td>\n",
       "      <td>0</td>\n",
       "      <td>100</td>\n",
       "      <td>1</td>\n",
       "      <td>176</td>\n",
       "      <td>177</td>\n",
       "      <td>0</td>\n",
       "      <td>180</td>\n",
       "      <td>15</td>\n",
       "      <td>177</td>\n",
       "      <td>178</td>\n",
       "    </tr>\n",
       "    <tr>\n",
       "      <th>1</th>\n",
       "      <td>1</td>\n",
       "      <td>0</td>\n",
       "      <td>100</td>\n",
       "      <td>2</td>\n",
       "      <td>176</td>\n",
       "      <td>177</td>\n",
       "      <td>0</td>\n",
       "      <td>180</td>\n",
       "      <td>14</td>\n",
       "      <td>178</td>\n",
       "      <td>178</td>\n",
       "    </tr>\n",
       "    <tr>\n",
       "      <th>2</th>\n",
       "      <td>1</td>\n",
       "      <td>0</td>\n",
       "      <td>100</td>\n",
       "      <td>2</td>\n",
       "      <td>176</td>\n",
       "      <td>177</td>\n",
       "      <td>0</td>\n",
       "      <td>180</td>\n",
       "      <td>14</td>\n",
       "      <td>179</td>\n",
       "      <td>178</td>\n",
       "    </tr>\n",
       "    <tr>\n",
       "      <th>3</th>\n",
       "      <td>1</td>\n",
       "      <td>0</td>\n",
       "      <td>100</td>\n",
       "      <td>2</td>\n",
       "      <td>176</td>\n",
       "      <td>177</td>\n",
       "      <td>0</td>\n",
       "      <td>179</td>\n",
       "      <td>14</td>\n",
       "      <td>179</td>\n",
       "      <td>178</td>\n",
       "    </tr>\n",
       "    <tr>\n",
       "      <th>4</th>\n",
       "      <td>1</td>\n",
       "      <td>0</td>\n",
       "      <td>100</td>\n",
       "      <td>2</td>\n",
       "      <td>176</td>\n",
       "      <td>177</td>\n",
       "      <td>0</td>\n",
       "      <td>179</td>\n",
       "      <td>14</td>\n",
       "      <td>179</td>\n",
       "      <td>179</td>\n",
       "    </tr>\n",
       "    <tr>\n",
       "      <th>...</th>\n",
       "      <td>...</td>\n",
       "      <td>...</td>\n",
       "      <td>...</td>\n",
       "      <td>...</td>\n",
       "      <td>...</td>\n",
       "      <td>...</td>\n",
       "      <td>...</td>\n",
       "      <td>...</td>\n",
       "      <td>...</td>\n",
       "      <td>...</td>\n",
       "      <td>...</td>\n",
       "    </tr>\n",
       "    <tr>\n",
       "      <th>842</th>\n",
       "      <td>2</td>\n",
       "      <td>9</td>\n",
       "      <td>70</td>\n",
       "      <td>3</td>\n",
       "      <td>40</td>\n",
       "      <td>45</td>\n",
       "      <td>0</td>\n",
       "      <td>180</td>\n",
       "      <td>8</td>\n",
       "      <td>179</td>\n",
       "      <td>173</td>\n",
       "    </tr>\n",
       "    <tr>\n",
       "      <th>843</th>\n",
       "      <td>2</td>\n",
       "      <td>9</td>\n",
       "      <td>70</td>\n",
       "      <td>3</td>\n",
       "      <td>39</td>\n",
       "      <td>44</td>\n",
       "      <td>0</td>\n",
       "      <td>179</td>\n",
       "      <td>8</td>\n",
       "      <td>179</td>\n",
       "      <td>174</td>\n",
       "    </tr>\n",
       "    <tr>\n",
       "      <th>844</th>\n",
       "      <td>2</td>\n",
       "      <td>9</td>\n",
       "      <td>70</td>\n",
       "      <td>4</td>\n",
       "      <td>39</td>\n",
       "      <td>44</td>\n",
       "      <td>0</td>\n",
       "      <td>179</td>\n",
       "      <td>8</td>\n",
       "      <td>179</td>\n",
       "      <td>174</td>\n",
       "    </tr>\n",
       "    <tr>\n",
       "      <th>845</th>\n",
       "      <td>2</td>\n",
       "      <td>9</td>\n",
       "      <td>70</td>\n",
       "      <td>3</td>\n",
       "      <td>38</td>\n",
       "      <td>43</td>\n",
       "      <td>0</td>\n",
       "      <td>179</td>\n",
       "      <td>8</td>\n",
       "      <td>180</td>\n",
       "      <td>174</td>\n",
       "    </tr>\n",
       "    <tr>\n",
       "      <th>846</th>\n",
       "      <td>2</td>\n",
       "      <td>9</td>\n",
       "      <td>70</td>\n",
       "      <td>4</td>\n",
       "      <td>37</td>\n",
       "      <td>42</td>\n",
       "      <td>0</td>\n",
       "      <td>179</td>\n",
       "      <td>8</td>\n",
       "      <td>179</td>\n",
       "      <td>174</td>\n",
       "    </tr>\n",
       "  </tbody>\n",
       "</table>\n",
       "<p>847 rows × 11 columns</p>\n",
       "</div>"
      ],
      "text/plain": [
       "     Phase  Correction  Score  0    1    2  3    4   5    6    7\n",
       "0        1           0    100  1  176  177  0  180  15  177  178\n",
       "1        1           0    100  2  176  177  0  180  14  178  178\n",
       "2        1           0    100  2  176  177  0  180  14  179  178\n",
       "3        1           0    100  2  176  177  0  179  14  179  178\n",
       "4        1           0    100  2  176  177  0  179  14  179  179\n",
       "..     ...         ...    ... ..  ...  ... ..  ...  ..  ...  ...\n",
       "842      2           9     70  3   40   45  0  180   8  179  173\n",
       "843      2           9     70  3   39   44  0  179   8  179  174\n",
       "844      2           9     70  4   39   44  0  179   8  179  174\n",
       "845      2           9     70  3   38   43  0  179   8  180  174\n",
       "846      2           9     70  4   37   42  0  179   8  179  174\n",
       "\n",
       "[847 rows x 11 columns]"
      ]
     },
     "execution_count": 20,
     "metadata": {},
     "output_type": "execute_result"
    }
   ],
   "source": [
    "df = pd.read_csv('../dataset/error/angles.csv')\n",
    "df = df.drop('Unnamed: 0', axis=1)\n",
    "# Convert the string representation of Angles into separate columns\n",
    "df['Angles'] = df['Angles'].apply(lambda x: [int(val) for val in x.strip('[]').split(', ')])\n",
    "\n",
    "# Split the Angles list into separate columns\n",
    "df = pd.concat([df, df['Angles'].apply(pd.Series)], axis=1)\n",
    "df.drop('Angles', axis=1, inplace=True)\n",
    "\n",
    "# Convert the Phase column to integers\n",
    "df['Phase'] = df['Phase'].astype(int)\n",
    "df['Score'] = df['Score'].astype(int)\n",
    "df.columns = df.columns.astype(str)\n",
    "df"
   ]
  },
  {
   "cell_type": "code",
   "execution_count": 21,
   "metadata": {},
   "outputs": [],
   "source": [
    "features = np.array(df[['Phase', '0', '1', '2', '3', '4', '5', '6', '7']])\n",
    "labels = np.array(df['Score'])\n",
    "Xtrain, Xtest, Ytrain, Ytest = train_test_split(features, labels, test_size=0.2, random_state=42)"
   ]
  },
  {
   "cell_type": "markdown",
   "metadata": {},
   "source": [
    "LR"
   ]
  },
  {
   "cell_type": "code",
   "execution_count": 22,
   "metadata": {},
   "outputs": [
    {
     "name": "stdout",
     "output_type": "stream",
     "text": [
      "Accuracy: 8.24%\n"
     ]
    }
   ],
   "source": [
    "model = LinearRegression()\n",
    "reg = model.fit(Xtrain, Ytrain)\n",
    "Ypred = reg.predict(Xtest)\n",
    "Ypred = Ypred.astype(int)\n",
    "accuracy = accuracy_score(Ytest, Ypred)\n",
    "print(f\"Accuracy: {accuracy * 100:.2f}%\")"
   ]
  },
  {
   "cell_type": "code",
   "execution_count": 23,
   "metadata": {},
   "outputs": [
    {
     "data": {
      "text/plain": [
       "array([ 99,  97,  90,  95,  83,  74,  97,  77,  98,  80,  86,  99,  83,\n",
       "        76,  82,  98,  72,  83,  94,  94,  89,  98,  97,  85,  94,  98,\n",
       "        75,  96,  95,  98,  70,  95,  85,  97,  84,  71,  94,  97,  97,\n",
       "        79,  87,  80,  96,  80,  79,  94,  98,  82,  85,  80,  87,  81,\n",
       "        81,  99,  91,  77, 100,  85,  75,  81,  92,  71,  96, 100,  84,\n",
       "        88,  98,  83,  72,  99,  96,  98,  76,  90,  44,  98,  72,  83,\n",
       "        78,  90,  75,  82,  76,  68,  77,  96,  83,  96,  85,  80,  82,\n",
       "        78,  97,  97, 100, 100,  95,  64,  98,  96, 107,  81,  99,  99,\n",
       "        96,  70,  99,  85,  98,  99,  99,  76,  83,  90,  83,  83,  92,\n",
       "        92,  82,  71,  77, 101,  95,  83,  87,  97,  98,  72,  99,  98,\n",
       "        76,  79,  80,  99,  79,  97, 101,  72,  71,  98,  97, 100,  89,\n",
       "       102,  85,  97,  97,  95,  97,  95,  93,  70,  95,  92,  83,  78,\n",
       "        79,  79,  97,  85,  51,  71, 100, 101,  80,  98, 101, 100,  60,\n",
       "        96])"
      ]
     },
     "execution_count": 23,
     "metadata": {},
     "output_type": "execute_result"
    }
   ],
   "source": [
    "Ypred"
   ]
  },
  {
   "cell_type": "code",
   "execution_count": 24,
   "metadata": {},
   "outputs": [
    {
     "data": {
      "text/plain": [
       "array([100,  80, 100, 100,  70,  70, 100,  70, 100,  70,  80, 100,  80,\n",
       "        80,  80, 100,  70,  80,  85,  90, 100, 100, 100,  80,  90, 100,\n",
       "        70, 100,  90, 100,  70, 100,  80, 100,  80,  70, 100, 100, 100,\n",
       "        80,  85,  80, 100,  80,  70, 100, 100,  80,  95,  80,  80,  80,\n",
       "        80, 100, 100,  80, 100,  95,  80,  80, 100,  80, 100, 100,  80,\n",
       "       100, 100,  90,  80, 100, 100, 100,  80,  95,  60, 100,  70,  80,\n",
       "        80, 100,  70,  85,  70,  70,  80, 100,  70, 100,  80,  80,  80,\n",
       "        70, 100, 100, 100, 100,  90,  70, 100, 100,  95,  70, 100, 100,\n",
       "       100,  70, 100,  80, 100, 100,  90,  70,  80, 100,  95,  80,  90,\n",
       "        95,  80,  70,  80, 100, 100,  80,  80,  90, 100,  70, 100, 100,\n",
       "        80,  80,  80, 100,  80, 100, 100,  80,  70, 100, 100,  90,  95,\n",
       "       100,  80, 100, 100,  90, 100, 100,  90,  80,  90,  90,  80,  80,\n",
       "        80,  80, 100,  80,  60,  70, 100, 100,  80,  90,  95, 100,  70,\n",
       "       100])"
      ]
     },
     "execution_count": 24,
     "metadata": {},
     "output_type": "execute_result"
    }
   ],
   "source": [
    "Ytest"
   ]
  },
  {
   "cell_type": "markdown",
   "metadata": {},
   "source": [
    "SVR"
   ]
  },
  {
   "cell_type": "code",
   "execution_count": 25,
   "metadata": {},
   "outputs": [],
   "source": [
    "features = np.array(df[['Phase', '0', '1', '2', '3', '4', '5', '6', '7']])\n",
    "labels = np.array(df['Score'])\n",
    "Xtrain, Xtest, Ytrain, Ytest = train_test_split(features, labels, test_size=0.2, random_state=42)"
   ]
  },
  {
   "cell_type": "code",
   "execution_count": 26,
   "metadata": {},
   "outputs": [
    {
     "name": "stdout",
     "output_type": "stream",
     "text": [
      "Accuracy: 8.82%\n"
     ]
    }
   ],
   "source": [
    "svr = svm.SVR(kernel='linear')\n",
    "svr.fit(Xtrain, Ytrain)\n",
    "Ypred = svr.predict(Xtest)\n",
    "Ypred = Ypred.astype(int)\n",
    "accuracy = accuracy_score(Ytest, Ypred)\n",
    "print(f\"Accuracy: {accuracy * 100:.2f}%\")"
   ]
  },
  {
   "cell_type": "code",
   "execution_count": 27,
   "metadata": {},
   "outputs": [
    {
     "data": {
      "text/plain": [
       "array([101,  99,  93,  98,  85,  74,  98,  78,  98,  80,  85, 102,  85,\n",
       "        78,  81,  99,  72,  82,  97,  97,  89, 100,  97,  85,  97,  98,\n",
       "        74,  98,  98, 101,  69,  97,  84,  98,  84,  69,  96,  98,  99,\n",
       "        78,  88,  78,  97,  79,  79,  96, 100,  81,  86,  82,  88,  80,\n",
       "        81, 100,  91,  77, 102,  86,  75,  81,  93,  73,  97, 101,  84,\n",
       "        91,  98,  84,  71, 101,  97, 100,  76,  91,  43, 100,  71,  83,\n",
       "        78,  91,  75,  82,  79,  67,  78,  98,  85,  98,  86,  80,  84,\n",
       "        80,  97,  99, 102, 101,  97,  62, 100,  96, 110,  81, 101, 100,\n",
       "        98,  69, 100,  86,  99, 100, 101,  75,  84,  93,  84,  83,  93,\n",
       "        94,  81,  71,  76, 101,  97,  85,  87,  99,  98,  71,  99,  98,\n",
       "        75,  79,  79,  99,  78,  99, 101,  73,  72,  99,  98, 102,  91,\n",
       "       103,  85,  99,  97,  97,  99,  97,  95,  69,  97,  95,  82,  76,\n",
       "        80,  80,  98,  85,  49,  72, 100, 101,  81,  98, 103, 100,  58,\n",
       "        98])"
      ]
     },
     "execution_count": 27,
     "metadata": {},
     "output_type": "execute_result"
    }
   ],
   "source": [
    "Ypred"
   ]
  },
  {
   "cell_type": "code",
   "execution_count": 28,
   "metadata": {},
   "outputs": [
    {
     "data": {
      "text/plain": [
       "array([100,  80, 100, 100,  70,  70, 100,  70, 100,  70,  80, 100,  80,\n",
       "        80,  80, 100,  70,  80,  85,  90, 100, 100, 100,  80,  90, 100,\n",
       "        70, 100,  90, 100,  70, 100,  80, 100,  80,  70, 100, 100, 100,\n",
       "        80,  85,  80, 100,  80,  70, 100, 100,  80,  95,  80,  80,  80,\n",
       "        80, 100, 100,  80, 100,  95,  80,  80, 100,  80, 100, 100,  80,\n",
       "       100, 100,  90,  80, 100, 100, 100,  80,  95,  60, 100,  70,  80,\n",
       "        80, 100,  70,  85,  70,  70,  80, 100,  70, 100,  80,  80,  80,\n",
       "        70, 100, 100, 100, 100,  90,  70, 100, 100,  95,  70, 100, 100,\n",
       "       100,  70, 100,  80, 100, 100,  90,  70,  80, 100,  95,  80,  90,\n",
       "        95,  80,  70,  80, 100, 100,  80,  80,  90, 100,  70, 100, 100,\n",
       "        80,  80,  80, 100,  80, 100, 100,  80,  70, 100, 100,  90,  95,\n",
       "       100,  80, 100, 100,  90, 100, 100,  90,  80,  90,  90,  80,  80,\n",
       "        80,  80, 100,  80,  60,  70, 100, 100,  80,  90,  95, 100,  70,\n",
       "       100])"
      ]
     },
     "execution_count": 28,
     "metadata": {},
     "output_type": "execute_result"
    }
   ],
   "source": [
    "Ytest"
   ]
  },
  {
   "cell_type": "markdown",
   "metadata": {},
   "source": [
    "TensorFlow"
   ]
  },
  {
   "cell_type": "code",
   "execution_count": 29,
   "metadata": {},
   "outputs": [],
   "source": [
    "features = np.array(df[['Phase', '0', '1', '2', '3', '4', '5', '6', '7']].values)\n",
    "labels = np.array(df['Score'].values)\n",
    "Xtrain, Xtest, Ytrain, Ytest = train_test_split(features, labels, test_size=0.2, random_state=42)"
   ]
  },
  {
   "cell_type": "code",
   "execution_count": 30,
   "metadata": {},
   "outputs": [],
   "source": [
    "# Chuẩn hoá dữ liệu\n",
    "scaler = StandardScaler()\n",
    "Xtrain = scaler.fit_transform(Xtrain)\n",
    "Xtest = scaler.transform(Xtest)"
   ]
  },
  {
   "cell_type": "code",
   "execution_count": 31,
   "metadata": {},
   "outputs": [],
   "source": [
    "# Xây dựng mô hình mạng neural\n",
    "model = tf.keras.Sequential([\n",
    "    tf.keras.layers.Input(shape=(9,)),  # Số lượng đặc trưng đầu vào\n",
    "    tf.keras.layers.Dense(64, activation='relu'),  # Lớp ẩn với 64 đơn vị ẩn\n",
    "    tf.keras.layers.Dense(32, activation='relu'),  # Lớp ẩn với 32 đơn vị ẩn\n",
    "    tf.keras.layers.Dense(1)  # Lớp đầu ra với 1 đơn vị (Regression)\n",
    "])"
   ]
  },
  {
   "cell_type": "code",
   "execution_count": 32,
   "metadata": {},
   "outputs": [
    {
     "name": "stdout",
     "output_type": "stream",
     "text": [
      "Epoch 1/50\n",
      "22/22 [==============================] - 1s 12ms/step - loss: 7971.6978 - val_loss: 7672.9043\n",
      "Epoch 2/50\n",
      "22/22 [==============================] - 0s 3ms/step - loss: 7715.2422 - val_loss: 7345.2256\n",
      "Epoch 3/50\n",
      "22/22 [==============================] - 0s 3ms/step - loss: 7288.1719 - val_loss: 6775.4360\n",
      "Epoch 4/50\n",
      "22/22 [==============================] - 0s 3ms/step - loss: 6557.5630 - val_loss: 5844.3804\n",
      "Epoch 5/50\n",
      "22/22 [==============================] - 0s 3ms/step - loss: 5441.2700 - val_loss: 4540.1328\n",
      "Epoch 6/50\n",
      "22/22 [==============================] - 0s 3ms/step - loss: 4002.0110 - val_loss: 3013.0918\n",
      "Epoch 7/50\n",
      "22/22 [==============================] - 0s 3ms/step - loss: 2460.3015 - val_loss: 1591.0513\n",
      "Epoch 8/50\n",
      "22/22 [==============================] - 0s 3ms/step - loss: 1200.8969 - val_loss: 666.5773\n",
      "Epoch 9/50\n",
      "22/22 [==============================] - 0s 4ms/step - loss: 507.9108 - val_loss: 297.9973\n",
      "Epoch 10/50\n",
      "22/22 [==============================] - 0s 4ms/step - loss: 271.9575 - val_loss: 205.9346\n",
      "Epoch 11/50\n",
      "22/22 [==============================] - 0s 5ms/step - loss: 205.0399 - val_loss: 184.1422\n",
      "Epoch 12/50\n",
      "22/22 [==============================] - 0s 4ms/step - loss: 180.3643 - val_loss: 169.5511\n",
      "Epoch 13/50\n",
      "22/22 [==============================] - 0s 3ms/step - loss: 162.4081 - val_loss: 159.0155\n",
      "Epoch 14/50\n",
      "22/22 [==============================] - 0s 4ms/step - loss: 150.2732 - val_loss: 148.8125\n",
      "Epoch 15/50\n",
      "22/22 [==============================] - 0s 4ms/step - loss: 139.4920 - val_loss: 138.7852\n",
      "Epoch 16/50\n",
      "22/22 [==============================] - 0s 3ms/step - loss: 129.9151 - val_loss: 130.1093\n",
      "Epoch 17/50\n",
      "22/22 [==============================] - 0s 3ms/step - loss: 121.7133 - val_loss: 123.0815\n",
      "Epoch 18/50\n",
      "22/22 [==============================] - 0s 3ms/step - loss: 114.2767 - val_loss: 117.5861\n",
      "Epoch 19/50\n",
      "22/22 [==============================] - 0s 3ms/step - loss: 107.0750 - val_loss: 109.4356\n",
      "Epoch 20/50\n",
      "22/22 [==============================] - 0s 6ms/step - loss: 101.0962 - val_loss: 104.2036\n",
      "Epoch 21/50\n",
      "22/22 [==============================] - 0s 3ms/step - loss: 96.0184 - val_loss: 98.0602\n",
      "Epoch 22/50\n",
      "22/22 [==============================] - 0s 2ms/step - loss: 90.9529 - val_loss: 93.6492\n",
      "Epoch 23/50\n",
      "22/22 [==============================] - 0s 3ms/step - loss: 86.4192 - val_loss: 89.8555\n",
      "Epoch 24/50\n",
      "22/22 [==============================] - 0s 4ms/step - loss: 82.5266 - val_loss: 85.2329\n",
      "Epoch 25/50\n",
      "22/22 [==============================] - 0s 4ms/step - loss: 78.8153 - val_loss: 81.1077\n",
      "Epoch 26/50\n",
      "22/22 [==============================] - 0s 3ms/step - loss: 75.0866 - val_loss: 76.5638\n",
      "Epoch 27/50\n",
      "22/22 [==============================] - 0s 3ms/step - loss: 71.5299 - val_loss: 73.7534\n",
      "Epoch 28/50\n",
      "22/22 [==============================] - 0s 3ms/step - loss: 68.5177 - val_loss: 70.7126\n",
      "Epoch 29/50\n",
      "22/22 [==============================] - 0s 3ms/step - loss: 65.7768 - val_loss: 68.4348\n",
      "Epoch 30/50\n",
      "22/22 [==============================] - 0s 4ms/step - loss: 63.1669 - val_loss: 65.2868\n",
      "Epoch 31/50\n",
      "22/22 [==============================] - 0s 5ms/step - loss: 60.9015 - val_loss: 63.2010\n",
      "Epoch 32/50\n",
      "22/22 [==============================] - 0s 4ms/step - loss: 58.8471 - val_loss: 61.3083\n",
      "Epoch 33/50\n",
      "22/22 [==============================] - 0s 4ms/step - loss: 56.4403 - val_loss: 58.3671\n",
      "Epoch 34/50\n",
      "22/22 [==============================] - 0s 5ms/step - loss: 54.8287 - val_loss: 57.1075\n",
      "Epoch 35/50\n",
      "22/22 [==============================] - 0s 3ms/step - loss: 52.7128 - val_loss: 54.4033\n",
      "Epoch 36/50\n",
      "22/22 [==============================] - 0s 3ms/step - loss: 50.7605 - val_loss: 53.2786\n",
      "Epoch 37/50\n",
      "22/22 [==============================] - 0s 3ms/step - loss: 49.0940 - val_loss: 51.4959\n",
      "Epoch 38/50\n",
      "22/22 [==============================] - 0s 3ms/step - loss: 47.4471 - val_loss: 50.2335\n",
      "Epoch 39/50\n",
      "22/22 [==============================] - 0s 3ms/step - loss: 45.9580 - val_loss: 48.3988\n",
      "Epoch 40/50\n",
      "22/22 [==============================] - 0s 4ms/step - loss: 44.4842 - val_loss: 47.0119\n",
      "Epoch 41/50\n",
      "22/22 [==============================] - 0s 4ms/step - loss: 42.9907 - val_loss: 45.8592\n",
      "Epoch 42/50\n",
      "22/22 [==============================] - 0s 3ms/step - loss: 41.7310 - val_loss: 44.9837\n",
      "Epoch 43/50\n",
      "22/22 [==============================] - 0s 3ms/step - loss: 40.3010 - val_loss: 43.6323\n",
      "Epoch 44/50\n",
      "22/22 [==============================] - 0s 3ms/step - loss: 39.3254 - val_loss: 42.3780\n",
      "Epoch 45/50\n",
      "22/22 [==============================] - 0s 3ms/step - loss: 38.2001 - val_loss: 42.0702\n",
      "Epoch 46/50\n",
      "22/22 [==============================] - 0s 3ms/step - loss: 37.1762 - val_loss: 40.3760\n",
      "Epoch 47/50\n",
      "22/22 [==============================] - 0s 3ms/step - loss: 36.0291 - val_loss: 39.8733\n",
      "Epoch 48/50\n",
      "22/22 [==============================] - 0s 3ms/step - loss: 35.1659 - val_loss: 39.2840\n",
      "Epoch 49/50\n",
      "22/22 [==============================] - 0s 3ms/step - loss: 34.3264 - val_loss: 37.5775\n",
      "Epoch 50/50\n",
      "22/22 [==============================] - 0s 3ms/step - loss: 33.0516 - val_loss: 36.9324\n",
      "6/6 [==============================] - 0s 2ms/step - loss: 36.9324\n",
      "Loss on test data: 36.93239974975586\n"
     ]
    }
   ],
   "source": [
    "# Biên dịch mô hình\n",
    "model.compile(optimizer='adam', loss='mean_squared_error')\n",
    "\n",
    "# Huấn luyện mô hình\n",
    "model.fit(Xtrain, Ytrain, epochs=50, batch_size=32, validation_data=(Xtest, Ytest))\n",
    "\n",
    "# Đánh giá hiệu suất của mô hình\n",
    "loss = model.evaluate(Xtest, Ytest)\n",
    "print(f\"Loss on test data: {loss}\")"
   ]
  },
  {
   "cell_type": "code",
   "execution_count": 33,
   "metadata": {},
   "outputs": [
    {
     "name": "stdout",
     "output_type": "stream",
     "text": [
      "6/6 [==============================] - 0s 1ms/step\n"
     ]
    }
   ],
   "source": [
    "# Sử dụng mô hình để dự đoán\n",
    "predictions = model.predict(Xtest)"
   ]
  },
  {
   "cell_type": "code",
   "execution_count": 36,
   "metadata": {},
   "outputs": [
    {
     "data": {
      "text/plain": [
       "array([ 97.4832  ,  92.58775 ,  95.96651 ,  92.38681 ,  78.58664 ,\n",
       "        69.10091 , 108.18225 ,  70.33825 ,  96.50507 ,  62.355316,\n",
       "        82.09651 , 106.298965,  77.56454 ,  77.97844 ,  81.47011 ,\n",
       "        93.5946  ,  83.630295,  83.84516 ,  82.45807 ,  96.245865,\n",
       "        90.845726,  81.84943 ,  92.23066 ,  71.35959 ,  97.61862 ,\n",
       "       101.4261  ,  72.76367 , 100.405075,  87.559006, 104.929855,\n",
       "        82.833206, 101.97603 ,  80.836845,  96.75665 ,  79.04896 ,\n",
       "        79.39    , 100.329155,  94.75281 ,  96.66629 ,  78.10262 ,\n",
       "        77.663345,  80.92355 ,  95.40703 ,  82.518715,  77.36655 ,\n",
       "        97.59041 , 105.11337 ,  79.94606 ,  87.08876 ,  74.56408 ,\n",
       "        78.308914,  76.19464 ,  81.83257 , 102.46239 ,  96.30831 ,\n",
       "        68.54332 ,  99.728226,  85.13704 ,  84.49437 ,  82.19505 ,\n",
       "        96.05626 ,  75.66583 , 103.799164, 103.34517 ,  81.18147 ,\n",
       "       101.783295,  92.56947 ,  92.300766,  80.281525,  97.4832  ,\n",
       "        96.681984, 105.11337 ,  84.638664,  96.17323 ,  71.77873 ,\n",
       "       105.11337 ,  79.27677 ,  78.93402 ,  73.72722 ,  92.06399 ,\n",
       "        70.22315 ,  78.659225,  69.2033  ,  72.75713 ,  78.87192 ,\n",
       "       103.11512 ,  82.327194,  96.62102 ,  60.2683  ,  83.071915,\n",
       "        76.65988 ,  83.57417 ,  93.54195 , 103.40431 ,  98.9156  ,\n",
       "       103.34517 ,  97.33891 ,  75.42154 , 105.6594  ,  92.51499 ,\n",
       "        99.56052 ,  84.66521 ,  99.46565 , 105.4903  ,  95.31875 ,\n",
       "        79.34097 , 102.46239 ,  81.09708 ,  96.259964,  96.6406  ,\n",
       "        90.947845,  76.147064,  78.660355,  94.58219 ,  90.792984,\n",
       "        84.78263 ,  80.332306, 104.04016 ,  78.03992 ,  69.947525,\n",
       "        82.74704 , 104.209496, 102.15261 ,  76.50581 ,  79.29213 ,\n",
       "        97.66864 ,  95.63572 ,  80.00572 ,  87.97011 , 108.598404,\n",
       "        80.22398 ,  67.5744  ,  71.947716,  94.45009 ,  79.54918 ,\n",
       "       100.86576 , 104.209496,  74.75165 ,  77.34802 ,  97.88248 ,\n",
       "        97.5633  ,  96.2561  ,  95.19777 ,  94.97421 ,  86.868256,\n",
       "       100.7296  ,  92.24271 ,  95.65107 , 102.35564 , 101.02394 ,\n",
       "        96.331955,  82.81622 ,  87.70143 ,  98.77319 ,  82.41864 ,\n",
       "        86.02753 ,  70.671295,  81.83998 ,  97.01986 ,  71.75871 ,\n",
       "        68.830345,  74.48087 , 102.50763 , 104.209496,  71.96257 ,\n",
       "        96.58512 ,  98.557686, 107.713326,  72.987495,  96.41759 ],\n",
       "      dtype=float32)"
      ]
     },
     "execution_count": 36,
     "metadata": {},
     "output_type": "execute_result"
    }
   ],
   "source": [
    "Ypred = predictions.astype(int)\n",
    "Ypred = predictions.reshape(-1,)\n",
    "Ypred"
   ]
  },
  {
   "cell_type": "code",
   "execution_count": 37,
   "metadata": {},
   "outputs": [
    {
     "data": {
      "text/plain": [
       "array([100,  80, 100, 100,  70,  70, 100,  70, 100,  70,  80, 100,  80,\n",
       "        80,  80, 100,  70,  80,  85,  90, 100, 100, 100,  80,  90, 100,\n",
       "        70, 100,  90, 100,  70, 100,  80, 100,  80,  70, 100, 100, 100,\n",
       "        80,  85,  80, 100,  80,  70, 100, 100,  80,  95,  80,  80,  80,\n",
       "        80, 100, 100,  80, 100,  95,  80,  80, 100,  80, 100, 100,  80,\n",
       "       100, 100,  90,  80, 100, 100, 100,  80,  95,  60, 100,  70,  80,\n",
       "        80, 100,  70,  85,  70,  70,  80, 100,  70, 100,  80,  80,  80,\n",
       "        70, 100, 100, 100, 100,  90,  70, 100, 100,  95,  70, 100, 100,\n",
       "       100,  70, 100,  80, 100, 100,  90,  70,  80, 100,  95,  80,  90,\n",
       "        95,  80,  70,  80, 100, 100,  80,  80,  90, 100,  70, 100, 100,\n",
       "        80,  80,  80, 100,  80, 100, 100,  80,  70, 100, 100,  90,  95,\n",
       "       100,  80, 100, 100,  90, 100, 100,  90,  80,  90,  90,  80,  80,\n",
       "        80,  80, 100,  80,  60,  70, 100, 100,  80,  90,  95, 100,  70,\n",
       "       100])"
      ]
     },
     "execution_count": 37,
     "metadata": {},
     "output_type": "execute_result"
    }
   ],
   "source": [
    "Ytest"
   ]
  },
  {
   "cell_type": "code",
   "execution_count": 38,
   "metadata": {},
   "outputs": [
    {
     "name": "stdout",
     "output_type": "stream",
     "text": [
      "Mean Squared Error (MSE): 36.93240263405511\n",
      "Root Mean Squared Error (RMSE): 6.077203520868386\n"
     ]
    }
   ],
   "source": [
    "# Tính MSE\n",
    "mse = mean_squared_error(Ytest, Ypred)\n",
    "print(f\"Mean Squared Error (MSE): {mse}\")\n",
    "\n",
    "# Tính RMSE\n",
    "rmse = np.sqrt(mse)\n",
    "print(f\"Root Mean Squared Error (RMSE): {rmse}\")"
   ]
  },
  {
   "cell_type": "code",
   "execution_count": 39,
   "metadata": {},
   "outputs": [
    {
     "name": "stdout",
     "output_type": "stream",
     "text": [
      "Accuracy: 58.82%\n"
     ]
    }
   ],
   "source": [
    "wrongPre = 0\n",
    "totalPre = len(Ypred)\n",
    "eps = 5\n",
    "for i in range(totalPre):\n",
    "    if abs(Ypred[i] - Ytest[i]) > 5:\n",
    "        wrongPre += 1\n",
    "\n",
    "print(f'Accuracy: {(1 - wrongPre / totalPre) * 100:.2f}%')"
   ]
  },
  {
   "cell_type": "markdown",
   "metadata": {},
   "source": [
    "Random Forest"
   ]
  },
  {
   "cell_type": "code",
   "execution_count": 40,
   "metadata": {},
   "outputs": [],
   "source": [
    "features = np.array(df[['Phase', '0', '1', '2', '3', '4', '5', '6', '7']].values)\n",
    "labels = np.array(df['Score'].values)\n",
    "Xtrain, Xtest, Ytrain, Ytest = train_test_split(features, labels, test_size=0.2, random_state=42)"
   ]
  },
  {
   "cell_type": "code",
   "execution_count": 41,
   "metadata": {},
   "outputs": [
    {
     "name": "stdout",
     "output_type": "stream",
     "text": [
      "Mean Squared Error (MSE): 3.1750045955882356\n",
      "R-squared (R2): 0.976485214386392\n"
     ]
    }
   ],
   "source": [
    "# Tạo mô hình Random Forest Regression\n",
    "rf_model = RandomForestRegressor(n_estimators=100, random_state=42)  # Bạn có thể tùy chỉnh số cây và các siêu tham số khác\n",
    "\n",
    "# Huấn luyện mô hình trên tập huấn luyện\n",
    "rf_model.fit(Xtrain, Ytrain)\n",
    "\n",
    "# Dự đoán trên tập kiểm tra\n",
    "Ypred = rf_model.predict(Xtest)\n",
    "\n",
    "# Đánh giá mô hình\n",
    "mse = mean_squared_error(Ytest, Ypred)\n",
    "r2 = r2_score(Ytest, Ypred)\n",
    "\n",
    "print(f\"Mean Squared Error (MSE): {mse}\")\n",
    "print(f\"R-squared (R2): {r2}\")"
   ]
  },
  {
   "cell_type": "code",
   "execution_count": 42,
   "metadata": {},
   "outputs": [
    {
     "data": {
      "text/plain": [
       "array([100,  91,  99, 100,  75,  70, 100,  75, 100,  71,  81, 100,  80,\n",
       "        79,  80, 100,  66,  80,  85,  90,  97,  99,  96,  80,  91,  98,\n",
       "        71,  99,  88, 100,  67, 100,  80, 100,  80,  67, 100,  98, 100,\n",
       "        80,  84,  80, 100,  80,  71, 100, 100,  80,  95,  79,  80,  80,\n",
       "        80, 100,  99,  80, 100,  94,  79,  80,  99,  79,  98, 100,  80,\n",
       "        97,  96,  90,  78, 100, 100, 100,  80,  94,  61, 100,  70,  80,\n",
       "        79,  98,  70,  81,  69,  71,  79, 100,  75, 100,  76,  80,  73,\n",
       "        74, 100, 100,  99, 100,  90,  72, 100, 100,  95,  71, 100, 100,\n",
       "       100,  73, 100,  80,  99, 100,  90,  70,  80,  99,  88,  80,  90,\n",
       "        96,  79,  70,  80, 100, 100,  80,  80,  90,  97,  72,  99, 100,\n",
       "        80,  80,  80,  98,  79, 100, 100,  80,  70,  99, 100,  90,  90,\n",
       "        97,  80, 100, 100,  90, 100, 100,  90,  80,  88,  90,  80,  80,\n",
       "        79,  79, 100,  80,  62,  70, 100, 100,  79,  92,  95, 100,  72,\n",
       "       100])"
      ]
     },
     "execution_count": 42,
     "metadata": {},
     "output_type": "execute_result"
    }
   ],
   "source": [
    "Ypred = Ypred.astype(int)\n",
    "Ypred"
   ]
  },
  {
   "cell_type": "code",
   "execution_count": 43,
   "metadata": {},
   "outputs": [
    {
     "data": {
      "text/plain": [
       "array([100,  80, 100, 100,  70,  70, 100,  70, 100,  70,  80, 100,  80,\n",
       "        80,  80, 100,  70,  80,  85,  90, 100, 100, 100,  80,  90, 100,\n",
       "        70, 100,  90, 100,  70, 100,  80, 100,  80,  70, 100, 100, 100,\n",
       "        80,  85,  80, 100,  80,  70, 100, 100,  80,  95,  80,  80,  80,\n",
       "        80, 100, 100,  80, 100,  95,  80,  80, 100,  80, 100, 100,  80,\n",
       "       100, 100,  90,  80, 100, 100, 100,  80,  95,  60, 100,  70,  80,\n",
       "        80, 100,  70,  85,  70,  70,  80, 100,  70, 100,  80,  80,  80,\n",
       "        70, 100, 100, 100, 100,  90,  70, 100, 100,  95,  70, 100, 100,\n",
       "       100,  70, 100,  80, 100, 100,  90,  70,  80, 100,  95,  80,  90,\n",
       "        95,  80,  70,  80, 100, 100,  80,  80,  90, 100,  70, 100, 100,\n",
       "        80,  80,  80, 100,  80, 100, 100,  80,  70, 100, 100,  90,  95,\n",
       "       100,  80, 100, 100,  90, 100, 100,  90,  80,  90,  90,  80,  80,\n",
       "        80,  80, 100,  80,  60,  70, 100, 100,  80,  90,  95, 100,  70,\n",
       "       100])"
      ]
     },
     "execution_count": 43,
     "metadata": {},
     "output_type": "execute_result"
    }
   ],
   "source": [
    "Ytest"
   ]
  },
  {
   "cell_type": "code",
   "execution_count": 44,
   "metadata": {},
   "outputs": [
    {
     "name": "stdout",
     "output_type": "stream",
     "text": [
      "Accuracy: 98.24%\n"
     ]
    }
   ],
   "source": [
    "wrongPre = 0\n",
    "totalPre = len(Ypred)\n",
    "eps = 5\n",
    "for i in range(totalPre):\n",
    "    if abs(Ypred[i] - Ytest[i]) > 5:\n",
    "        wrongPre += 1\n",
    "\n",
    "print(f'Accuracy: {(1 - wrongPre / totalPre) * 100:.2f}%')"
   ]
  }
 ],
 "metadata": {
  "kernelspec": {
   "display_name": "Python 3",
   "language": "python",
   "name": "python3"
  },
  "language_info": {
   "codemirror_mode": {
    "name": "ipython",
    "version": 3
   },
   "file_extension": ".py",
   "mimetype": "text/x-python",
   "name": "python",
   "nbconvert_exporter": "python",
   "pygments_lexer": "ipython3",
   "version": "3.10.12"
  }
 },
 "nbformat": 4,
 "nbformat_minor": 2
}
