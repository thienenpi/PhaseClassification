{
 "cells": [
  {
   "cell_type": "code",
   "execution_count": 2,
   "metadata": {},
   "outputs": [
    {
     "name": "stderr",
     "output_type": "stream",
     "text": [
      "2023-10-21 22:24:26.746935: I tensorflow/core/platform/cpu_feature_guard.cc:182] This TensorFlow binary is optimized to use available CPU instructions in performance-critical operations.\n",
      "To enable the following instructions: AVX2 AVX512F AVX512_VNNI FMA, in other operations, rebuild TensorFlow with the appropriate compiler flags.\n"
     ]
    }
   ],
   "source": [
    "import numpy as np\n",
    "import cv2\n",
    "import random\n",
    "import pandas as pd\n",
    "import tensorflow as tf\n",
    "import pickle\n",
    "import ast\n",
    "from sklearn.model_selection import train_test_split\n",
    "from sklearn.linear_model import LinearRegression\n",
    "from sklearn.ensemble import RandomForestRegressor\n",
    "from sklearn.cluster import KMeans\n",
    "from sklearn import svm\n",
    "from sklearn.tree import DecisionTreeClassifier\n",
    "from sklearn.metrics import accuracy_score, mean_squared_error, r2_score\n",
    "from sklearn.preprocessing import StandardScaler\n",
    "from moviepy.editor import VideoFileClip"
   ]
  },
  {
   "cell_type": "code",
   "execution_count": null,
   "metadata": {},
   "outputs": [],
   "source": [
    "good = '../dataset/error/good.csv'\n",
    "misalignedHands = '../dataset/error/misaligned_hands.csv'\n",
    "narrowLegs = '../dataset/error/narrow_legs.csv'"
   ]
  },
  {
   "cell_type": "code",
   "execution_count": null,
   "metadata": {},
   "outputs": [],
   "source": [
    "df1 = pd.read_csv(good)\n",
    "df2 = pd.read_csv(misalignedHands)\n",
    "df3 = pd.read_csv(narrowLegs)"
   ]
  },
  {
   "cell_type": "code",
   "execution_count": null,
   "metadata": {},
   "outputs": [],
   "source": [
    "df = pd.concat([df1, df2], ignore_index=True)\n",
    "df = pd.concat([df, df3], ignore_index=True)\n",
    "df = df.drop(columns='Unnamed: 0', axis=1)\n",
    "df"
   ]
  },
  {
   "cell_type": "code",
   "execution_count": null,
   "metadata": {},
   "outputs": [],
   "source": [
    "newDataset = '../dataset/error/angles.csv'\n",
    "df.to_csv(newDataset)"
   ]
  },
  {
   "cell_type": "markdown",
   "metadata": {},
   "source": [
    "Chữa động tác"
   ]
  },
  {
   "cell_type": "code",
   "execution_count": 28,
   "metadata": {},
   "outputs": [
    {
     "data": {
      "text/html": [
       "<div>\n",
       "<style scoped>\n",
       "    .dataframe tbody tr th:only-of-type {\n",
       "        vertical-align: middle;\n",
       "    }\n",
       "\n",
       "    .dataframe tbody tr th {\n",
       "        vertical-align: top;\n",
       "    }\n",
       "\n",
       "    .dataframe thead th {\n",
       "        text-align: right;\n",
       "    }\n",
       "</style>\n",
       "<table border=\"1\" class=\"dataframe\">\n",
       "  <thead>\n",
       "    <tr style=\"text-align: right;\">\n",
       "      <th></th>\n",
       "      <th>Phase</th>\n",
       "      <th>Correction</th>\n",
       "      <th>Score</th>\n",
       "      <th>0</th>\n",
       "      <th>1</th>\n",
       "      <th>2</th>\n",
       "      <th>3</th>\n",
       "      <th>4</th>\n",
       "      <th>5</th>\n",
       "      <th>6</th>\n",
       "      <th>7</th>\n",
       "    </tr>\n",
       "  </thead>\n",
       "  <tbody>\n",
       "    <tr>\n",
       "      <th>0</th>\n",
       "      <td>1</td>\n",
       "      <td>0</td>\n",
       "      <td>100</td>\n",
       "      <td>1</td>\n",
       "      <td>176</td>\n",
       "      <td>177</td>\n",
       "      <td>0</td>\n",
       "      <td>180</td>\n",
       "      <td>15</td>\n",
       "      <td>177</td>\n",
       "      <td>178</td>\n",
       "    </tr>\n",
       "    <tr>\n",
       "      <th>1</th>\n",
       "      <td>1</td>\n",
       "      <td>0</td>\n",
       "      <td>100</td>\n",
       "      <td>2</td>\n",
       "      <td>176</td>\n",
       "      <td>177</td>\n",
       "      <td>0</td>\n",
       "      <td>180</td>\n",
       "      <td>14</td>\n",
       "      <td>178</td>\n",
       "      <td>178</td>\n",
       "    </tr>\n",
       "    <tr>\n",
       "      <th>2</th>\n",
       "      <td>1</td>\n",
       "      <td>0</td>\n",
       "      <td>100</td>\n",
       "      <td>2</td>\n",
       "      <td>176</td>\n",
       "      <td>177</td>\n",
       "      <td>0</td>\n",
       "      <td>180</td>\n",
       "      <td>14</td>\n",
       "      <td>179</td>\n",
       "      <td>178</td>\n",
       "    </tr>\n",
       "    <tr>\n",
       "      <th>3</th>\n",
       "      <td>1</td>\n",
       "      <td>0</td>\n",
       "      <td>100</td>\n",
       "      <td>2</td>\n",
       "      <td>176</td>\n",
       "      <td>177</td>\n",
       "      <td>0</td>\n",
       "      <td>179</td>\n",
       "      <td>14</td>\n",
       "      <td>179</td>\n",
       "      <td>178</td>\n",
       "    </tr>\n",
       "    <tr>\n",
       "      <th>4</th>\n",
       "      <td>1</td>\n",
       "      <td>0</td>\n",
       "      <td>100</td>\n",
       "      <td>2</td>\n",
       "      <td>176</td>\n",
       "      <td>177</td>\n",
       "      <td>0</td>\n",
       "      <td>179</td>\n",
       "      <td>14</td>\n",
       "      <td>179</td>\n",
       "      <td>179</td>\n",
       "    </tr>\n",
       "    <tr>\n",
       "      <th>...</th>\n",
       "      <td>...</td>\n",
       "      <td>...</td>\n",
       "      <td>...</td>\n",
       "      <td>...</td>\n",
       "      <td>...</td>\n",
       "      <td>...</td>\n",
       "      <td>...</td>\n",
       "      <td>...</td>\n",
       "      <td>...</td>\n",
       "      <td>...</td>\n",
       "      <td>...</td>\n",
       "    </tr>\n",
       "    <tr>\n",
       "      <th>842</th>\n",
       "      <td>2</td>\n",
       "      <td>9</td>\n",
       "      <td>70</td>\n",
       "      <td>3</td>\n",
       "      <td>40</td>\n",
       "      <td>45</td>\n",
       "      <td>0</td>\n",
       "      <td>180</td>\n",
       "      <td>8</td>\n",
       "      <td>179</td>\n",
       "      <td>173</td>\n",
       "    </tr>\n",
       "    <tr>\n",
       "      <th>843</th>\n",
       "      <td>2</td>\n",
       "      <td>9</td>\n",
       "      <td>70</td>\n",
       "      <td>3</td>\n",
       "      <td>39</td>\n",
       "      <td>44</td>\n",
       "      <td>0</td>\n",
       "      <td>179</td>\n",
       "      <td>8</td>\n",
       "      <td>179</td>\n",
       "      <td>174</td>\n",
       "    </tr>\n",
       "    <tr>\n",
       "      <th>844</th>\n",
       "      <td>2</td>\n",
       "      <td>9</td>\n",
       "      <td>70</td>\n",
       "      <td>4</td>\n",
       "      <td>39</td>\n",
       "      <td>44</td>\n",
       "      <td>0</td>\n",
       "      <td>179</td>\n",
       "      <td>8</td>\n",
       "      <td>179</td>\n",
       "      <td>174</td>\n",
       "    </tr>\n",
       "    <tr>\n",
       "      <th>845</th>\n",
       "      <td>2</td>\n",
       "      <td>9</td>\n",
       "      <td>70</td>\n",
       "      <td>3</td>\n",
       "      <td>38</td>\n",
       "      <td>43</td>\n",
       "      <td>0</td>\n",
       "      <td>179</td>\n",
       "      <td>8</td>\n",
       "      <td>180</td>\n",
       "      <td>174</td>\n",
       "    </tr>\n",
       "    <tr>\n",
       "      <th>846</th>\n",
       "      <td>2</td>\n",
       "      <td>9</td>\n",
       "      <td>70</td>\n",
       "      <td>4</td>\n",
       "      <td>37</td>\n",
       "      <td>42</td>\n",
       "      <td>0</td>\n",
       "      <td>179</td>\n",
       "      <td>8</td>\n",
       "      <td>179</td>\n",
       "      <td>174</td>\n",
       "    </tr>\n",
       "  </tbody>\n",
       "</table>\n",
       "<p>847 rows × 11 columns</p>\n",
       "</div>"
      ],
      "text/plain": [
       "     Phase  Correction  Score  0    1    2  3    4   5    6    7\n",
       "0        1           0    100  1  176  177  0  180  15  177  178\n",
       "1        1           0    100  2  176  177  0  180  14  178  178\n",
       "2        1           0    100  2  176  177  0  180  14  179  178\n",
       "3        1           0    100  2  176  177  0  179  14  179  178\n",
       "4        1           0    100  2  176  177  0  179  14  179  179\n",
       "..     ...         ...    ... ..  ...  ... ..  ...  ..  ...  ...\n",
       "842      2           9     70  3   40   45  0  180   8  179  173\n",
       "843      2           9     70  3   39   44  0  179   8  179  174\n",
       "844      2           9     70  4   39   44  0  179   8  179  174\n",
       "845      2           9     70  3   38   43  0  179   8  180  174\n",
       "846      2           9     70  4   37   42  0  179   8  179  174\n",
       "\n",
       "[847 rows x 11 columns]"
      ]
     },
     "execution_count": 28,
     "metadata": {},
     "output_type": "execute_result"
    }
   ],
   "source": [
    "df = pd.read_csv('../dataset/error/angles.csv')\n",
    "df = df.drop('Unnamed: 0', axis=1)\n",
    "# Convert the string representation of Angles into separate columns\n",
    "df['Angles'] = df['Angles'].apply(lambda x: [int(val) for val in x.strip('[]').split(', ')])\n",
    "\n",
    "# Split the Angles list into separate columns\n",
    "df = pd.concat([df, df['Angles'].apply(pd.Series)], axis=1)\n",
    "df.drop('Angles', axis=1, inplace=True)\n",
    "\n",
    "# Convert the Phase column to integers\n",
    "df['Phase'] = df['Phase'].astype(int)\n",
    "df['Correction'] = df['Correction'].astype(int)\n",
    "df.columns = df.columns.astype(str)\n",
    "df"
   ]
  },
  {
   "cell_type": "code",
   "execution_count": 35,
   "metadata": {},
   "outputs": [],
   "source": [
    "features = np.array(df[['Phase', '0', '1', '2', '3', '4', '5', '6', '7']])\n",
    "labels = np.array(df['Correction'])"
   ]
  },
  {
   "cell_type": "code",
   "execution_count": 36,
   "metadata": {},
   "outputs": [],
   "source": [
    "Xtrain, Xtest, Ytrain, Ytest = train_test_split(features, labels, test_size=0.2, random_state=42)"
   ]
  },
  {
   "cell_type": "code",
   "execution_count": 37,
   "metadata": {},
   "outputs": [
    {
     "data": {
      "text/html": [
       "<style>#sk-container-id-2 {color: black;}#sk-container-id-2 pre{padding: 0;}#sk-container-id-2 div.sk-toggleable {background-color: white;}#sk-container-id-2 label.sk-toggleable__label {cursor: pointer;display: block;width: 100%;margin-bottom: 0;padding: 0.3em;box-sizing: border-box;text-align: center;}#sk-container-id-2 label.sk-toggleable__label-arrow:before {content: \"▸\";float: left;margin-right: 0.25em;color: #696969;}#sk-container-id-2 label.sk-toggleable__label-arrow:hover:before {color: black;}#sk-container-id-2 div.sk-estimator:hover label.sk-toggleable__label-arrow:before {color: black;}#sk-container-id-2 div.sk-toggleable__content {max-height: 0;max-width: 0;overflow: hidden;text-align: left;background-color: #f0f8ff;}#sk-container-id-2 div.sk-toggleable__content pre {margin: 0.2em;color: black;border-radius: 0.25em;background-color: #f0f8ff;}#sk-container-id-2 input.sk-toggleable__control:checked~div.sk-toggleable__content {max-height: 200px;max-width: 100%;overflow: auto;}#sk-container-id-2 input.sk-toggleable__control:checked~label.sk-toggleable__label-arrow:before {content: \"▾\";}#sk-container-id-2 div.sk-estimator input.sk-toggleable__control:checked~label.sk-toggleable__label {background-color: #d4ebff;}#sk-container-id-2 div.sk-label input.sk-toggleable__control:checked~label.sk-toggleable__label {background-color: #d4ebff;}#sk-container-id-2 input.sk-hidden--visually {border: 0;clip: rect(1px 1px 1px 1px);clip: rect(1px, 1px, 1px, 1px);height: 1px;margin: -1px;overflow: hidden;padding: 0;position: absolute;width: 1px;}#sk-container-id-2 div.sk-estimator {font-family: monospace;background-color: #f0f8ff;border: 1px dotted black;border-radius: 0.25em;box-sizing: border-box;margin-bottom: 0.5em;}#sk-container-id-2 div.sk-estimator:hover {background-color: #d4ebff;}#sk-container-id-2 div.sk-parallel-item::after {content: \"\";width: 100%;border-bottom: 1px solid gray;flex-grow: 1;}#sk-container-id-2 div.sk-label:hover label.sk-toggleable__label {background-color: #d4ebff;}#sk-container-id-2 div.sk-serial::before {content: \"\";position: absolute;border-left: 1px solid gray;box-sizing: border-box;top: 0;bottom: 0;left: 50%;z-index: 0;}#sk-container-id-2 div.sk-serial {display: flex;flex-direction: column;align-items: center;background-color: white;padding-right: 0.2em;padding-left: 0.2em;position: relative;}#sk-container-id-2 div.sk-item {position: relative;z-index: 1;}#sk-container-id-2 div.sk-parallel {display: flex;align-items: stretch;justify-content: center;background-color: white;position: relative;}#sk-container-id-2 div.sk-item::before, #sk-container-id-2 div.sk-parallel-item::before {content: \"\";position: absolute;border-left: 1px solid gray;box-sizing: border-box;top: 0;bottom: 0;left: 50%;z-index: -1;}#sk-container-id-2 div.sk-parallel-item {display: flex;flex-direction: column;z-index: 1;position: relative;background-color: white;}#sk-container-id-2 div.sk-parallel-item:first-child::after {align-self: flex-end;width: 50%;}#sk-container-id-2 div.sk-parallel-item:last-child::after {align-self: flex-start;width: 50%;}#sk-container-id-2 div.sk-parallel-item:only-child::after {width: 0;}#sk-container-id-2 div.sk-dashed-wrapped {border: 1px dashed gray;margin: 0 0.4em 0.5em 0.4em;box-sizing: border-box;padding-bottom: 0.4em;background-color: white;}#sk-container-id-2 div.sk-label label {font-family: monospace;font-weight: bold;display: inline-block;line-height: 1.2em;}#sk-container-id-2 div.sk-label-container {text-align: center;}#sk-container-id-2 div.sk-container {/* jupyter's `normalize.less` sets `[hidden] { display: none; }` but bootstrap.min.css set `[hidden] { display: none !important; }` so we also need the `!important` here to be able to override the default hidden behavior on the sphinx rendered scikit-learn.org. See: https://github.com/scikit-learn/scikit-learn/issues/21755 */display: inline-block !important;position: relative;}#sk-container-id-2 div.sk-text-repr-fallback {display: none;}</style><div id=\"sk-container-id-2\" class=\"sk-top-container\"><div class=\"sk-text-repr-fallback\"><pre>DecisionTreeClassifier()</pre><b>In a Jupyter environment, please rerun this cell to show the HTML representation or trust the notebook. <br />On GitHub, the HTML representation is unable to render, please try loading this page with nbviewer.org.</b></div><div class=\"sk-container\" hidden><div class=\"sk-item\"><div class=\"sk-estimator sk-toggleable\"><input class=\"sk-toggleable__control sk-hidden--visually\" id=\"sk-estimator-id-2\" type=\"checkbox\" checked><label for=\"sk-estimator-id-2\" class=\"sk-toggleable__label sk-toggleable__label-arrow\">DecisionTreeClassifier</label><div class=\"sk-toggleable__content\"><pre>DecisionTreeClassifier()</pre></div></div></div></div></div>"
      ],
      "text/plain": [
       "DecisionTreeClassifier()"
      ]
     },
     "execution_count": 37,
     "metadata": {},
     "output_type": "execute_result"
    }
   ],
   "source": [
    "clf = DecisionTreeClassifier()\n",
    "clf.fit(Xtrain, Ytrain)"
   ]
  },
  {
   "cell_type": "code",
   "execution_count": 38,
   "metadata": {},
   "outputs": [
    {
     "name": "stdout",
     "output_type": "stream",
     "text": [
      "Accuracy: 0.9882352941176471\n"
     ]
    }
   ],
   "source": [
    "Ypred = clf.predict(Xtest)\n",
    "accuracy = accuracy_score(Ytest, Ypred)\n",
    "print(f\"Accuracy: {accuracy}\")"
   ]
  },
  {
   "cell_type": "code",
   "execution_count": 39,
   "metadata": {},
   "outputs": [
    {
     "data": {
      "text/plain": [
       "array([0, 0, 0, 0, 9, 9, 0, 9, 0, 9, 1, 0, 9, 9, 9, 0, 1, 1, 0, 0, 0, 0,\n",
       "       0, 9, 0, 0, 1, 0, 0, 0, 1, 0, 9, 0, 9, 1, 0, 0, 0, 1, 0, 9, 0, 9,\n",
       "       1, 0, 0, 9, 0, 9, 1, 1, 9, 0, 0, 9, 0, 0, 9, 9, 0, 9, 0, 0, 9, 0,\n",
       "       0, 0, 1, 0, 0, 0, 9, 0, 9, 0, 1, 9, 1, 0, 9, 1, 9, 1, 9, 0, 9, 0,\n",
       "       9, 9, 9, 9, 0, 0, 1, 0, 0, 1, 0, 0, 0, 1, 0, 0, 0, 1, 0, 1, 0, 0,\n",
       "       0, 9, 9, 0, 0, 1, 0, 0, 1, 9, 9, 0, 0, 9, 9, 0, 0, 1, 0, 0, 9, 9,\n",
       "       9, 0, 1, 0, 0, 9, 1, 0, 0, 0, 0, 0, 9, 0, 0, 0, 0, 0, 0, 1, 0, 0,\n",
       "       1, 9, 9, 9, 0, 9, 9, 9, 0, 0, 9, 0, 0, 0, 1, 0])"
      ]
     },
     "execution_count": 39,
     "metadata": {},
     "output_type": "execute_result"
    }
   ],
   "source": [
    "Ypred"
   ]
  },
  {
   "cell_type": "code",
   "execution_count": 40,
   "metadata": {},
   "outputs": [
    {
     "data": {
      "text/plain": [
       "array([0, 0, 0, 0, 9, 9, 0, 9, 0, 9, 1, 0, 9, 9, 9, 0, 1, 1, 0, 0, 0, 0,\n",
       "       0, 9, 0, 0, 1, 0, 0, 0, 1, 0, 9, 0, 9, 1, 0, 0, 0, 1, 1, 9, 0, 9,\n",
       "       1, 0, 0, 9, 0, 9, 1, 1, 9, 0, 0, 9, 0, 0, 9, 9, 0, 9, 0, 0, 9, 0,\n",
       "       0, 0, 1, 0, 0, 0, 9, 0, 9, 0, 1, 9, 1, 0, 9, 1, 9, 1, 9, 0, 9, 0,\n",
       "       9, 9, 9, 9, 0, 0, 0, 0, 0, 1, 0, 0, 0, 1, 0, 0, 0, 1, 0, 1, 0, 0,\n",
       "       0, 9, 9, 0, 0, 1, 0, 0, 1, 9, 9, 0, 0, 9, 9, 0, 0, 1, 0, 0, 9, 9,\n",
       "       9, 0, 1, 0, 0, 9, 1, 0, 0, 0, 0, 0, 9, 0, 0, 0, 0, 0, 0, 1, 0, 0,\n",
       "       1, 9, 9, 9, 0, 9, 9, 9, 0, 0, 9, 0, 0, 0, 1, 0])"
      ]
     },
     "execution_count": 40,
     "metadata": {},
     "output_type": "execute_result"
    }
   ],
   "source": [
    "Ytest"
   ]
  },
  {
   "cell_type": "code",
   "execution_count": null,
   "metadata": {},
   "outputs": [],
   "source": [
    "Xtest = Xtest.sort_index()\n",
    "Ytest = Ytest.sort_index()"
   ]
  },
  {
   "cell_type": "code",
   "execution_count": null,
   "metadata": {},
   "outputs": [],
   "source": [
    "clf.predict(Xtest.loc[5:25])"
   ]
  },
  {
   "cell_type": "code",
   "execution_count": null,
   "metadata": {},
   "outputs": [],
   "source": [
    "Xtest.loc[5:25]"
   ]
  },
  {
   "cell_type": "code",
   "execution_count": null,
   "metadata": {},
   "outputs": [],
   "source": [
    "Ytest.loc[5:25]"
   ]
  },
  {
   "cell_type": "markdown",
   "metadata": {},
   "source": [
    "Tính gia tốc, vận tốc"
   ]
  },
  {
   "cell_type": "code",
   "execution_count": 7,
   "metadata": {},
   "outputs": [
    {
     "data": {
      "text/plain": [
       "8.44"
      ]
     },
     "execution_count": 7,
     "metadata": {},
     "output_type": "execute_result"
    }
   ],
   "source": [
    "# Đếm số giây của video\n",
    "videoPath = '../assets/sample-video/sample-video01.mp4'\n",
    "video = VideoFileClip(videoPath)\n",
    "duration = video.duration\n",
    "duration"
   ]
  },
  {
   "cell_type": "code",
   "execution_count": 8,
   "metadata": {},
   "outputs": [
    {
     "data": {
      "text/plain": [
       "253"
      ]
     },
     "execution_count": 8,
     "metadata": {},
     "output_type": "execute_result"
    }
   ],
   "source": [
    "# Đếm số frame của video\n",
    "cap = cv2.VideoCapture(videoPath)\n",
    "frameCount = int(cap.get(cv2.CAP_PROP_FRAME_COUNT))\n",
    "frameCount"
   ]
  },
  {
   "cell_type": "code",
   "execution_count": 9,
   "metadata": {},
   "outputs": [
    {
     "data": {
      "text/plain": [
       "0.03349206349206349"
      ]
     },
     "execution_count": 9,
     "metadata": {},
     "output_type": "execute_result"
    }
   ],
   "source": [
    "# Tính khoảng thời gian giữa 2 frame\n",
    "deltaT = duration / (frameCount - 1)\n",
    "deltaT"
   ]
  },
  {
   "cell_type": "code",
   "execution_count": 3,
   "metadata": {},
   "outputs": [
    {
     "data": {
      "text/html": [
       "<div>\n",
       "<style scoped>\n",
       "    .dataframe tbody tr th:only-of-type {\n",
       "        vertical-align: middle;\n",
       "    }\n",
       "\n",
       "    .dataframe tbody tr th {\n",
       "        vertical-align: top;\n",
       "    }\n",
       "\n",
       "    .dataframe thead th {\n",
       "        text-align: right;\n",
       "    }\n",
       "</style>\n",
       "<table border=\"1\" class=\"dataframe\">\n",
       "  <thead>\n",
       "    <tr style=\"text-align: right;\">\n",
       "      <th></th>\n",
       "      <th>Angles</th>\n",
       "      <th>Phase</th>\n",
       "      <th>Score</th>\n",
       "    </tr>\n",
       "  </thead>\n",
       "  <tbody>\n",
       "    <tr>\n",
       "      <th>0</th>\n",
       "      <td>[1, 176, 177, 0, 180, 15, 177, 178]</td>\n",
       "      <td>Down</td>\n",
       "      <td>100</td>\n",
       "    </tr>\n",
       "    <tr>\n",
       "      <th>1</th>\n",
       "      <td>[2, 176, 177, 0, 180, 14, 178, 178]</td>\n",
       "      <td>Down</td>\n",
       "      <td>100</td>\n",
       "    </tr>\n",
       "    <tr>\n",
       "      <th>2</th>\n",
       "      <td>[2, 176, 177, 0, 180, 14, 179, 178]</td>\n",
       "      <td>Down</td>\n",
       "      <td>100</td>\n",
       "    </tr>\n",
       "    <tr>\n",
       "      <th>3</th>\n",
       "      <td>[2, 176, 177, 0, 179, 14, 179, 178]</td>\n",
       "      <td>Down</td>\n",
       "      <td>100</td>\n",
       "    </tr>\n",
       "    <tr>\n",
       "      <th>4</th>\n",
       "      <td>[2, 176, 177, 0, 179, 14, 179, 179]</td>\n",
       "      <td>Down</td>\n",
       "      <td>100</td>\n",
       "    </tr>\n",
       "    <tr>\n",
       "      <th>...</th>\n",
       "      <td>...</td>\n",
       "      <td>...</td>\n",
       "      <td>...</td>\n",
       "    </tr>\n",
       "    <tr>\n",
       "      <th>248</th>\n",
       "      <td>[3, 175, 175, 0, 179, 14, 179, 179]</td>\n",
       "      <td>Down</td>\n",
       "      <td>100</td>\n",
       "    </tr>\n",
       "    <tr>\n",
       "      <th>249</th>\n",
       "      <td>[3, 175, 175, 0, 179, 13, 179, 179]</td>\n",
       "      <td>Down</td>\n",
       "      <td>100</td>\n",
       "    </tr>\n",
       "    <tr>\n",
       "      <th>250</th>\n",
       "      <td>[3, 175, 175, 0, 179, 14, 179, 179]</td>\n",
       "      <td>Down</td>\n",
       "      <td>100</td>\n",
       "    </tr>\n",
       "    <tr>\n",
       "      <th>251</th>\n",
       "      <td>[3, 175, 175, 0, 179, 14, 179, 179]</td>\n",
       "      <td>Down</td>\n",
       "      <td>100</td>\n",
       "    </tr>\n",
       "    <tr>\n",
       "      <th>252</th>\n",
       "      <td>[3, 175, 176, 0, 179, 14, 179, 179]</td>\n",
       "      <td>Down</td>\n",
       "      <td>100</td>\n",
       "    </tr>\n",
       "  </tbody>\n",
       "</table>\n",
       "<p>253 rows × 3 columns</p>\n",
       "</div>"
      ],
      "text/plain": [
       "                                  Angles Phase  Score\n",
       "0    [1, 176, 177, 0, 180, 15, 177, 178]  Down    100\n",
       "1    [2, 176, 177, 0, 180, 14, 178, 178]  Down    100\n",
       "2    [2, 176, 177, 0, 180, 14, 179, 178]  Down    100\n",
       "3    [2, 176, 177, 0, 179, 14, 179, 178]  Down    100\n",
       "4    [2, 176, 177, 0, 179, 14, 179, 179]  Down    100\n",
       "..                                   ...   ...    ...\n",
       "248  [3, 175, 175, 0, 179, 14, 179, 179]  Down    100\n",
       "249  [3, 175, 175, 0, 179, 13, 179, 179]  Down    100\n",
       "250  [3, 175, 175, 0, 179, 14, 179, 179]  Down    100\n",
       "251  [3, 175, 175, 0, 179, 14, 179, 179]  Down    100\n",
       "252  [3, 175, 176, 0, 179, 14, 179, 179]  Down    100\n",
       "\n",
       "[253 rows x 3 columns]"
      ]
     },
     "execution_count": 3,
     "metadata": {},
     "output_type": "execute_result"
    }
   ],
   "source": [
    "df = pd.read_csv('../dataset/standard/angles01.csv')\n",
    "df = df.drop('Unnamed: 0', axis=1)\n",
    "df"
   ]
  },
  {
   "cell_type": "code",
   "execution_count": 4,
   "metadata": {},
   "outputs": [],
   "source": [
    "df['Angles'] = df['Angles'].apply(lambda x: [int(val) for val in x.strip('[]').split(', ')])\n",
    "\n",
    "# Split the Angles list into separate columns\n",
    "df = pd.concat([df, df['Angles'].apply(pd.Series)], axis=1)\n",
    "df.drop('Angles', axis=1, inplace=True)"
   ]
  },
  {
   "cell_type": "code",
   "execution_count": 5,
   "metadata": {},
   "outputs": [],
   "source": [
    "df.columns = df.columns.astype(str)"
   ]
  },
  {
   "cell_type": "code",
   "execution_count": 6,
   "metadata": {},
   "outputs": [],
   "source": [
    "leftArms = df['1']"
   ]
  },
  {
   "cell_type": "code",
   "execution_count": 10,
   "metadata": {},
   "outputs": [],
   "source": [
    "t = []\n",
    "for i in range(len(leftArms)):\n",
    "    t.append(deltaT * i)"
   ]
  },
  {
   "cell_type": "code",
   "execution_count": 11,
   "metadata": {},
   "outputs": [
    {
     "name": "stdout",
     "output_type": "stream",
     "text": [
      "[    0     0     0     0     0     0     0     0     0     0     0   -14\n",
      "   -14   -14   -14   -14   -14   -14   -14   -14   -14   -14   -59   -74\n",
      "   -59   -59  -119  -298  -612 -1209 -1164  -507  -223  -134  -104   -59\n",
      "   -29   -14   -14   -14   -14   -14   -14   -14   -14   -14     0     0\n",
      "     0   -14   -14     0     0     0     0     0     0     0     0     0\n",
      "     0     0     0     0     0     0     0     0     0    14    14     0\n",
      "     0    14    14]\n"
     ]
    }
   ],
   "source": [
    "x = np.array(leftArms)\n",
    "t = np.array(t)\n",
    "\n",
    "# Tính đạo hàm của mảng theo t\n",
    "dx_dt = np.gradient(x, t)\n",
    "dx_dt = dx_dt.astype(int)\n",
    "print(dx_dt[0:75])"
   ]
  },
  {
   "cell_type": "code",
   "execution_count": 12,
   "metadata": {},
   "outputs": [
    {
     "data": {
      "text/plain": [
       "array([-116,  -84,   11,   83,   44,  -83,  -20,   83,   45])"
      ]
     },
     "execution_count": 12,
     "metadata": {},
     "output_type": "execute_result"
    }
   ],
   "source": [
    "t = np.array([0, 1, 2, 3, 4, 5, 6, 7, 8])\n",
    "x = np.array([df['1'][0],\n",
    "              df['1'][30],\n",
    "              df['1'][60],\n",
    "              df['1'][90],\n",
    "              df['1'][120],\n",
    "              df['1'][150],\n",
    "              df['1'][180],\n",
    "              df['1'][210],\n",
    "              df['1'][240],])\n",
    "dx_dt = np.gradient(x, t)\n",
    "dx_dt = dx_dt.astype(int)\n",
    "dx_dt"
   ]
  },
  {
   "cell_type": "markdown",
   "metadata": {},
   "source": [
    "Chấm điểm"
   ]
  },
  {
   "cell_type": "code",
   "execution_count": 13,
   "metadata": {},
   "outputs": [
    {
     "data": {
      "text/html": [
       "<div>\n",
       "<style scoped>\n",
       "    .dataframe tbody tr th:only-of-type {\n",
       "        vertical-align: middle;\n",
       "    }\n",
       "\n",
       "    .dataframe tbody tr th {\n",
       "        vertical-align: top;\n",
       "    }\n",
       "\n",
       "    .dataframe thead th {\n",
       "        text-align: right;\n",
       "    }\n",
       "</style>\n",
       "<table border=\"1\" class=\"dataframe\">\n",
       "  <thead>\n",
       "    <tr style=\"text-align: right;\">\n",
       "      <th></th>\n",
       "      <th>Phase</th>\n",
       "      <th>Correction</th>\n",
       "      <th>Score</th>\n",
       "      <th>0</th>\n",
       "      <th>1</th>\n",
       "      <th>2</th>\n",
       "      <th>3</th>\n",
       "      <th>4</th>\n",
       "      <th>5</th>\n",
       "      <th>6</th>\n",
       "      <th>7</th>\n",
       "    </tr>\n",
       "  </thead>\n",
       "  <tbody>\n",
       "    <tr>\n",
       "      <th>0</th>\n",
       "      <td>1</td>\n",
       "      <td>0</td>\n",
       "      <td>100</td>\n",
       "      <td>1</td>\n",
       "      <td>176</td>\n",
       "      <td>177</td>\n",
       "      <td>0</td>\n",
       "      <td>180</td>\n",
       "      <td>15</td>\n",
       "      <td>177</td>\n",
       "      <td>178</td>\n",
       "    </tr>\n",
       "    <tr>\n",
       "      <th>1</th>\n",
       "      <td>1</td>\n",
       "      <td>0</td>\n",
       "      <td>100</td>\n",
       "      <td>2</td>\n",
       "      <td>176</td>\n",
       "      <td>177</td>\n",
       "      <td>0</td>\n",
       "      <td>180</td>\n",
       "      <td>14</td>\n",
       "      <td>178</td>\n",
       "      <td>178</td>\n",
       "    </tr>\n",
       "    <tr>\n",
       "      <th>2</th>\n",
       "      <td>1</td>\n",
       "      <td>0</td>\n",
       "      <td>100</td>\n",
       "      <td>2</td>\n",
       "      <td>176</td>\n",
       "      <td>177</td>\n",
       "      <td>0</td>\n",
       "      <td>180</td>\n",
       "      <td>14</td>\n",
       "      <td>179</td>\n",
       "      <td>178</td>\n",
       "    </tr>\n",
       "    <tr>\n",
       "      <th>3</th>\n",
       "      <td>1</td>\n",
       "      <td>0</td>\n",
       "      <td>100</td>\n",
       "      <td>2</td>\n",
       "      <td>176</td>\n",
       "      <td>177</td>\n",
       "      <td>0</td>\n",
       "      <td>179</td>\n",
       "      <td>14</td>\n",
       "      <td>179</td>\n",
       "      <td>178</td>\n",
       "    </tr>\n",
       "    <tr>\n",
       "      <th>4</th>\n",
       "      <td>1</td>\n",
       "      <td>0</td>\n",
       "      <td>100</td>\n",
       "      <td>2</td>\n",
       "      <td>176</td>\n",
       "      <td>177</td>\n",
       "      <td>0</td>\n",
       "      <td>179</td>\n",
       "      <td>14</td>\n",
       "      <td>179</td>\n",
       "      <td>179</td>\n",
       "    </tr>\n",
       "    <tr>\n",
       "      <th>...</th>\n",
       "      <td>...</td>\n",
       "      <td>...</td>\n",
       "      <td>...</td>\n",
       "      <td>...</td>\n",
       "      <td>...</td>\n",
       "      <td>...</td>\n",
       "      <td>...</td>\n",
       "      <td>...</td>\n",
       "      <td>...</td>\n",
       "      <td>...</td>\n",
       "      <td>...</td>\n",
       "    </tr>\n",
       "    <tr>\n",
       "      <th>842</th>\n",
       "      <td>2</td>\n",
       "      <td>9</td>\n",
       "      <td>70</td>\n",
       "      <td>3</td>\n",
       "      <td>40</td>\n",
       "      <td>45</td>\n",
       "      <td>0</td>\n",
       "      <td>180</td>\n",
       "      <td>8</td>\n",
       "      <td>179</td>\n",
       "      <td>173</td>\n",
       "    </tr>\n",
       "    <tr>\n",
       "      <th>843</th>\n",
       "      <td>2</td>\n",
       "      <td>9</td>\n",
       "      <td>70</td>\n",
       "      <td>3</td>\n",
       "      <td>39</td>\n",
       "      <td>44</td>\n",
       "      <td>0</td>\n",
       "      <td>179</td>\n",
       "      <td>8</td>\n",
       "      <td>179</td>\n",
       "      <td>174</td>\n",
       "    </tr>\n",
       "    <tr>\n",
       "      <th>844</th>\n",
       "      <td>2</td>\n",
       "      <td>9</td>\n",
       "      <td>70</td>\n",
       "      <td>4</td>\n",
       "      <td>39</td>\n",
       "      <td>44</td>\n",
       "      <td>0</td>\n",
       "      <td>179</td>\n",
       "      <td>8</td>\n",
       "      <td>179</td>\n",
       "      <td>174</td>\n",
       "    </tr>\n",
       "    <tr>\n",
       "      <th>845</th>\n",
       "      <td>2</td>\n",
       "      <td>9</td>\n",
       "      <td>70</td>\n",
       "      <td>3</td>\n",
       "      <td>38</td>\n",
       "      <td>43</td>\n",
       "      <td>0</td>\n",
       "      <td>179</td>\n",
       "      <td>8</td>\n",
       "      <td>180</td>\n",
       "      <td>174</td>\n",
       "    </tr>\n",
       "    <tr>\n",
       "      <th>846</th>\n",
       "      <td>2</td>\n",
       "      <td>9</td>\n",
       "      <td>70</td>\n",
       "      <td>4</td>\n",
       "      <td>37</td>\n",
       "      <td>42</td>\n",
       "      <td>0</td>\n",
       "      <td>179</td>\n",
       "      <td>8</td>\n",
       "      <td>179</td>\n",
       "      <td>174</td>\n",
       "    </tr>\n",
       "  </tbody>\n",
       "</table>\n",
       "<p>847 rows × 11 columns</p>\n",
       "</div>"
      ],
      "text/plain": [
       "     Phase  Correction  Score  0    1    2  3    4   5    6    7\n",
       "0        1           0    100  1  176  177  0  180  15  177  178\n",
       "1        1           0    100  2  176  177  0  180  14  178  178\n",
       "2        1           0    100  2  176  177  0  180  14  179  178\n",
       "3        1           0    100  2  176  177  0  179  14  179  178\n",
       "4        1           0    100  2  176  177  0  179  14  179  179\n",
       "..     ...         ...    ... ..  ...  ... ..  ...  ..  ...  ...\n",
       "842      2           9     70  3   40   45  0  180   8  179  173\n",
       "843      2           9     70  3   39   44  0  179   8  179  174\n",
       "844      2           9     70  4   39   44  0  179   8  179  174\n",
       "845      2           9     70  3   38   43  0  179   8  180  174\n",
       "846      2           9     70  4   37   42  0  179   8  179  174\n",
       "\n",
       "[847 rows x 11 columns]"
      ]
     },
     "execution_count": 13,
     "metadata": {},
     "output_type": "execute_result"
    }
   ],
   "source": [
    "df = pd.read_csv('../dataset/error/angles.csv')\n",
    "df = df.drop('Unnamed: 0', axis=1)\n",
    "# Convert the string representation of Angles into separate columns\n",
    "df['Angles'] = df['Angles'].apply(lambda x: [int(val) for val in x.strip('[]').split(', ')])\n",
    "\n",
    "# Split the Angles list into separate columns\n",
    "df = pd.concat([df, df['Angles'].apply(pd.Series)], axis=1)\n",
    "df.drop('Angles', axis=1, inplace=True)\n",
    "\n",
    "# Convert the Phase column to integers\n",
    "df['Phase'] = df['Phase'].astype(int)\n",
    "df['Score'] = df['Score'].astype(int)\n",
    "df.columns = df.columns.astype(str)\n",
    "df"
   ]
  },
  {
   "cell_type": "code",
   "execution_count": null,
   "metadata": {},
   "outputs": [],
   "source": [
    "features = np.array(df[['Phase', '0', '1', '2', '3', '4', '5', '6', '7']])\n",
    "labels = np.array(df['Score'])\n",
    "Xtrain, Xtest, Ytrain, Ytest = train_test_split(features, labels, test_size=0.2, random_state=42)"
   ]
  },
  {
   "cell_type": "markdown",
   "metadata": {},
   "source": [
    "LR"
   ]
  },
  {
   "cell_type": "code",
   "execution_count": null,
   "metadata": {},
   "outputs": [],
   "source": [
    "model = LinearRegression()\n",
    "reg = model.fit(Xtrain, Ytrain)\n",
    "Ypred = reg.predict(Xtest)\n",
    "Ypred = Ypred.astype(int)\n",
    "accuracy = accuracy_score(Ytest, Ypred)\n",
    "print(f\"Accuracy: {accuracy * 100:.2f}%\")"
   ]
  },
  {
   "cell_type": "code",
   "execution_count": null,
   "metadata": {},
   "outputs": [],
   "source": [
    "Ypred"
   ]
  },
  {
   "cell_type": "code",
   "execution_count": null,
   "metadata": {},
   "outputs": [],
   "source": [
    "Ytest"
   ]
  },
  {
   "cell_type": "markdown",
   "metadata": {},
   "source": [
    "SVR"
   ]
  },
  {
   "cell_type": "code",
   "execution_count": null,
   "metadata": {},
   "outputs": [],
   "source": [
    "features = np.array(df[['Phase', '0', '1', '2', '3', '4', '5', '6', '7']])\n",
    "labels = np.array(df['Score'])\n",
    "Xtrain, Xtest, Ytrain, Ytest = train_test_split(features, labels, test_size=0.2, random_state=42)"
   ]
  },
  {
   "cell_type": "code",
   "execution_count": null,
   "metadata": {},
   "outputs": [],
   "source": [
    "svr = svm.SVR(kernel='linear')\n",
    "svr.fit(Xtrain, Ytrain)\n",
    "Ypred = svr.predict(Xtest)\n",
    "Ypred = Ypred.astype(int)\n",
    "accuracy = accuracy_score(Ytest, Ypred)\n",
    "print(f\"Accuracy: {accuracy * 100:.2f}%\")"
   ]
  },
  {
   "cell_type": "code",
   "execution_count": null,
   "metadata": {},
   "outputs": [],
   "source": [
    "Ypred"
   ]
  },
  {
   "cell_type": "code",
   "execution_count": null,
   "metadata": {},
   "outputs": [],
   "source": [
    "Ytest"
   ]
  },
  {
   "cell_type": "markdown",
   "metadata": {},
   "source": [
    "TensorFlow"
   ]
  },
  {
   "cell_type": "code",
   "execution_count": 14,
   "metadata": {},
   "outputs": [],
   "source": [
    "features = np.array(df[['Phase', '0', '1', '2', '3', '4', '5', '6', '7']].values)\n",
    "labels = np.array(df['Score'].values)\n",
    "Xtrain, Xtest, Ytrain, Ytest = train_test_split(features, labels, test_size=0.2, random_state=42)"
   ]
  },
  {
   "cell_type": "code",
   "execution_count": 15,
   "metadata": {},
   "outputs": [],
   "source": [
    "# Chuẩn hoá dữ liệu\n",
    "scaler = StandardScaler()\n",
    "Xtrain = scaler.fit_transform(Xtrain)\n",
    "Xtest = scaler.transform(Xtest)"
   ]
  },
  {
   "cell_type": "code",
   "execution_count": 16,
   "metadata": {},
   "outputs": [],
   "source": [
    "# Xây dựng mô hình mạng neural\n",
    "model = tf.keras.Sequential([\n",
    "    tf.keras.layers.Input(shape=(9,)),  # Số lượng đặc trưng đầu vào\n",
    "    tf.keras.layers.Dense(64, activation='relu'),  # Lớp ẩn với 64 đơn vị ẩn\n",
    "    tf.keras.layers.Dense(32, activation='relu'),  # Lớp ẩn với 32 đơn vị ẩn\n",
    "    tf.keras.layers.Dense(1)  # Lớp đầu ra với 1 đơn vị (Regression)\n",
    "])"
   ]
  },
  {
   "cell_type": "code",
   "execution_count": 17,
   "metadata": {},
   "outputs": [
    {
     "name": "stdout",
     "output_type": "stream",
     "text": [
      "Epoch 1/50\n",
      "22/22 [==============================] - 1s 11ms/step - loss: 7925.0474 - val_loss: 7596.8301\n",
      "Epoch 2/50\n",
      "22/22 [==============================] - 0s 3ms/step - loss: 7610.8843 - val_loss: 7206.6646\n",
      "Epoch 3/50\n",
      "22/22 [==============================] - 0s 4ms/step - loss: 7126.2856 - val_loss: 6592.9038\n",
      "Epoch 4/50\n",
      "22/22 [==============================] - 0s 4ms/step - loss: 6372.8057 - val_loss: 5664.1191\n",
      "Epoch 5/50\n",
      "22/22 [==============================] - 0s 4ms/step - loss: 5268.7256 - val_loss: 4393.8750\n",
      "Epoch 6/50\n",
      "22/22 [==============================] - 0s 3ms/step - loss: 3870.3770 - val_loss: 2920.4343\n",
      "Epoch 7/50\n",
      "22/22 [==============================] - 0s 3ms/step - loss: 2388.1936 - val_loss: 1558.3413\n",
      "Epoch 8/50\n",
      "22/22 [==============================] - 0s 3ms/step - loss: 1185.7357 - val_loss: 658.6196\n",
      "Epoch 9/50\n",
      "22/22 [==============================] - 0s 3ms/step - loss: 502.4116 - val_loss: 297.5081\n",
      "Epoch 10/50\n",
      "22/22 [==============================] - 0s 3ms/step - loss: 260.5634 - val_loss: 209.2517\n",
      "Epoch 11/50\n",
      "22/22 [==============================] - 0s 3ms/step - loss: 195.4908 - val_loss: 189.6092\n",
      "Epoch 12/50\n",
      "22/22 [==============================] - 0s 4ms/step - loss: 174.2801 - val_loss: 177.0249\n",
      "Epoch 13/50\n",
      "22/22 [==============================] - 0s 4ms/step - loss: 159.8678 - val_loss: 166.4403\n",
      "Epoch 14/50\n",
      "22/22 [==============================] - 0s 3ms/step - loss: 149.0087 - val_loss: 157.5513\n",
      "Epoch 15/50\n",
      "22/22 [==============================] - 0s 3ms/step - loss: 140.3251 - val_loss: 149.1392\n",
      "Epoch 16/50\n",
      "22/22 [==============================] - 0s 3ms/step - loss: 132.5597 - val_loss: 141.7483\n",
      "Epoch 17/50\n",
      "22/22 [==============================] - 0s 4ms/step - loss: 125.4543 - val_loss: 135.4519\n",
      "Epoch 18/50\n",
      "22/22 [==============================] - 0s 4ms/step - loss: 119.6282 - val_loss: 127.5691\n",
      "Epoch 19/50\n",
      "22/22 [==============================] - 0s 4ms/step - loss: 114.3310 - val_loss: 121.2382\n",
      "Epoch 20/50\n",
      "22/22 [==============================] - 0s 4ms/step - loss: 108.8195 - val_loss: 116.4814\n",
      "Epoch 21/50\n",
      "22/22 [==============================] - 0s 3ms/step - loss: 104.4262 - val_loss: 111.8253\n",
      "Epoch 22/50\n",
      "22/22 [==============================] - 0s 4ms/step - loss: 100.1260 - val_loss: 106.4659\n",
      "Epoch 23/50\n",
      "22/22 [==============================] - 0s 4ms/step - loss: 96.0773 - val_loss: 102.6257\n",
      "Epoch 24/50\n",
      "22/22 [==============================] - 0s 3ms/step - loss: 92.4070 - val_loss: 98.3465\n",
      "Epoch 25/50\n",
      "22/22 [==============================] - 0s 3ms/step - loss: 88.8262 - val_loss: 94.2160\n",
      "Epoch 26/50\n",
      "22/22 [==============================] - 0s 3ms/step - loss: 85.9236 - val_loss: 90.5826\n",
      "Epoch 27/50\n",
      "22/22 [==============================] - 0s 3ms/step - loss: 83.1174 - val_loss: 88.1028\n",
      "Epoch 28/50\n",
      "22/22 [==============================] - 0s 4ms/step - loss: 79.7557 - val_loss: 84.0705\n",
      "Epoch 29/50\n",
      "22/22 [==============================] - 0s 4ms/step - loss: 76.9811 - val_loss: 80.6413\n",
      "Epoch 30/50\n",
      "22/22 [==============================] - 0s 3ms/step - loss: 74.3613 - val_loss: 78.2997\n",
      "Epoch 31/50\n",
      "22/22 [==============================] - 0s 4ms/step - loss: 71.6662 - val_loss: 75.2355\n",
      "Epoch 32/50\n",
      "22/22 [==============================] - 0s 4ms/step - loss: 69.2449 - val_loss: 72.5175\n",
      "Epoch 33/50\n",
      "22/22 [==============================] - 0s 3ms/step - loss: 66.8768 - val_loss: 70.6912\n",
      "Epoch 34/50\n",
      "22/22 [==============================] - 0s 3ms/step - loss: 64.6301 - val_loss: 67.3642\n",
      "Epoch 35/50\n",
      "22/22 [==============================] - 0s 3ms/step - loss: 62.4176 - val_loss: 65.5016\n",
      "Epoch 36/50\n",
      "22/22 [==============================] - 0s 3ms/step - loss: 59.9357 - val_loss: 63.0850\n",
      "Epoch 37/50\n",
      "22/22 [==============================] - 0s 3ms/step - loss: 57.9260 - val_loss: 61.0560\n",
      "Epoch 38/50\n",
      "22/22 [==============================] - 0s 3ms/step - loss: 56.1008 - val_loss: 59.1409\n",
      "Epoch 39/50\n",
      "22/22 [==============================] - 0s 3ms/step - loss: 53.8301 - val_loss: 56.8940\n",
      "Epoch 40/50\n",
      "22/22 [==============================] - 0s 3ms/step - loss: 52.3093 - val_loss: 55.6103\n",
      "Epoch 41/50\n",
      "22/22 [==============================] - 0s 3ms/step - loss: 50.6506 - val_loss: 54.3913\n",
      "Epoch 42/50\n",
      "22/22 [==============================] - 0s 3ms/step - loss: 48.8561 - val_loss: 52.0941\n",
      "Epoch 43/50\n",
      "22/22 [==============================] - 0s 3ms/step - loss: 47.2160 - val_loss: 51.0012\n",
      "Epoch 44/50\n",
      "22/22 [==============================] - 0s 3ms/step - loss: 45.7293 - val_loss: 49.3427\n",
      "Epoch 45/50\n",
      "22/22 [==============================] - 0s 3ms/step - loss: 44.3159 - val_loss: 47.9901\n",
      "Epoch 46/50\n",
      "22/22 [==============================] - 0s 3ms/step - loss: 42.9149 - val_loss: 46.6176\n",
      "Epoch 47/50\n",
      "22/22 [==============================] - 0s 3ms/step - loss: 41.6263 - val_loss: 45.6363\n",
      "Epoch 48/50\n",
      "22/22 [==============================] - 0s 3ms/step - loss: 40.3321 - val_loss: 44.4755\n",
      "Epoch 49/50\n",
      "22/22 [==============================] - 0s 3ms/step - loss: 39.2285 - val_loss: 43.4932\n",
      "Epoch 50/50\n",
      "22/22 [==============================] - 0s 3ms/step - loss: 37.9701 - val_loss: 42.0247\n",
      "6/6 [==============================] - 0s 1ms/step - loss: 42.0247\n",
      "Loss on test data: 42.02472686767578\n"
     ]
    }
   ],
   "source": [
    "# Biên dịch mô hình\n",
    "model.compile(optimizer='adam', loss='mean_squared_error')\n",
    "\n",
    "# Huấn luyện mô hình\n",
    "model.fit(Xtrain, Ytrain, epochs=50, batch_size=32, validation_data=(Xtest, Ytest))\n",
    "\n",
    "# Đánh giá hiệu suất của mô hình\n",
    "loss = model.evaluate(Xtest, Ytest)\n",
    "print(f\"Loss on test data: {loss}\")"
   ]
  },
  {
   "cell_type": "code",
   "execution_count": 18,
   "metadata": {},
   "outputs": [
    {
     "name": "stdout",
     "output_type": "stream",
     "text": [
      "6/6 [==============================] - 0s 2ms/step\n"
     ]
    }
   ],
   "source": [
    "# Sử dụng mô hình để dự đoán\n",
    "predictions = model.predict(Xtest)"
   ]
  },
  {
   "cell_type": "code",
   "execution_count": 19,
   "metadata": {},
   "outputs": [
    {
     "data": {
      "text/plain": [
       "array([ 97.19758 ,  94.48356 ,  93.52134 ,  90.514084,  79.15575 ,\n",
       "        68.52155 , 109.63765 ,  71.18899 ,  96.46184 ,  61.861553,\n",
       "        80.09524 , 106.57457 ,  76.17919 ,  77.16708 ,  79.567955,\n",
       "        91.92383 ,  83.939964,  81.356926,  81.51818 ,  96.30506 ,\n",
       "        91.11336 ,  82.24435 ,  90.22245 ,  69.52622 ,  97.40574 ,\n",
       "       103.42819 ,  70.525314, 100.904884,  87.936714, 104.42005 ,\n",
       "        84.637856, 101.5479  ,  78.79348 ,  96.68324 ,  77.19543 ,\n",
       "        78.55315 ,  99.75782 ,  95.942116,  96.32139 ,  75.83257 ,\n",
       "        74.44317 ,  81.211586,  94.32792 ,  84.804115,  75.74185 ,\n",
       "        96.38497 , 105.07697 ,  78.01428 ,  87.53708 ,  75.927086,\n",
       "        76.86663 ,  72.73827 ,  79.89469 , 102.3553  ,  94.836655,\n",
       "        68.1091  ,  99.90971 ,  85.19834 ,  85.66445 ,  80.22142 ,\n",
       "        94.59472 ,  73.00095 , 104.57085 , 103.98109 ,  79.11744 ,\n",
       "       101.85852 ,  89.81889 ,  93.10436 ,  81.0894  ,  97.19758 ,\n",
       "        95.27648 , 105.07697 ,  86.54418 ,  96.041374,  71.22947 ,\n",
       "       105.07697 ,  78.986916,  77.21392 ,  73.78373 ,  91.6989  ,\n",
       "        70.31371 ,  76.13797 ,  69.18567 ,  71.72101 ,  78.50242 ,\n",
       "       102.72612 ,  81.33638 ,  95.998314,  60.0223  ,  82.727394,\n",
       "        78.63905 ,  82.901276,  92.89607 , 102.1921  , 100.672554,\n",
       "       103.98109 ,  97.09324 ,  74.21651 , 105.7956  ,  91.4387  ,\n",
       "        98.81568 ,  84.30542 ,  99.65012 , 105.66126 ,  94.47349 ,\n",
       "        79.7247  , 102.3553  ,  80.662834,  93.87626 ,  95.35222 ,\n",
       "        90.05913 ,  75.21995 ,  81.297516,  92.17866 ,  91.98904 ,\n",
       "        82.14788 ,  77.8076  , 104.96517 ,  76.42037 ,  69.56315 ,\n",
       "        86.29037 , 104.959694, 101.54941 ,  75.28671 ,  76.51282 ,\n",
       "        97.092735,  96.81837 ,  80.54193 ,  88.784325, 110.24813 ,\n",
       "        82.44857 ,  67.36138 ,  71.3961  ,  93.33193 ,  76.59408 ,\n",
       "       100.68185 , 104.959694,  73.213646,  76.679634,  96.20333 ,\n",
       "        97.47721 ,  95.30566 ,  96.62271 ,  96.76649 ,  83.71334 ,\n",
       "       101.294136,  91.21398 ,  96.253944, 102.03564 , 100.44085 ,\n",
       "        97.21249 ,  86.15332 ,  88.08193 ,  99.3024  ,  80.7398  ,\n",
       "        85.91251 ,  72.14521 ,  83.16535 ,  95.670074,  69.971   ,\n",
       "        69.17646 ,  73.14025 , 102.41017 , 104.959694,  71.9365  ,\n",
       "        98.44976 ,  96.75948 , 108.252556,  72.14025 ,  94.98989 ],\n",
       "      dtype=float32)"
      ]
     },
     "execution_count": 19,
     "metadata": {},
     "output_type": "execute_result"
    }
   ],
   "source": [
    "Ypred = predictions.astype(int)\n",
    "Ypred = predictions.reshape(-1,)\n",
    "Ypred"
   ]
  },
  {
   "cell_type": "code",
   "execution_count": 20,
   "metadata": {},
   "outputs": [
    {
     "data": {
      "text/plain": [
       "array([100,  80, 100, 100,  70,  70, 100,  70, 100,  70,  80, 100,  80,\n",
       "        80,  80, 100,  70,  80,  85,  90, 100, 100, 100,  80,  90, 100,\n",
       "        70, 100,  90, 100,  70, 100,  80, 100,  80,  70, 100, 100, 100,\n",
       "        80,  85,  80, 100,  80,  70, 100, 100,  80,  95,  80,  80,  80,\n",
       "        80, 100, 100,  80, 100,  95,  80,  80, 100,  80, 100, 100,  80,\n",
       "       100, 100,  90,  80, 100, 100, 100,  80,  95,  60, 100,  70,  80,\n",
       "        80, 100,  70,  85,  70,  70,  80, 100,  70, 100,  80,  80,  80,\n",
       "        70, 100, 100, 100, 100,  90,  70, 100, 100,  95,  70, 100, 100,\n",
       "       100,  70, 100,  80, 100, 100,  90,  70,  80, 100,  95,  80,  90,\n",
       "        95,  80,  70,  80, 100, 100,  80,  80,  90, 100,  70, 100, 100,\n",
       "        80,  80,  80, 100,  80, 100, 100,  80,  70, 100, 100,  90,  95,\n",
       "       100,  80, 100, 100,  90, 100, 100,  90,  80,  90,  90,  80,  80,\n",
       "        80,  80, 100,  80,  60,  70, 100, 100,  80,  90,  95, 100,  70,\n",
       "       100])"
      ]
     },
     "execution_count": 20,
     "metadata": {},
     "output_type": "execute_result"
    }
   ],
   "source": [
    "Ytest"
   ]
  },
  {
   "cell_type": "code",
   "execution_count": 21,
   "metadata": {},
   "outputs": [
    {
     "name": "stdout",
     "output_type": "stream",
     "text": [
      "Mean Squared Error (MSE): 42.02472670277117\n",
      "Root Mean Squared Error (RMSE): 6.482648124244533\n"
     ]
    }
   ],
   "source": [
    "# Tính MSE\n",
    "mse = mean_squared_error(Ytest, Ypred)\n",
    "print(f\"Mean Squared Error (MSE): {mse}\")\n",
    "\n",
    "# Tính RMSE\n",
    "rmse = np.sqrt(mse)\n",
    "print(f\"Root Mean Squared Error (RMSE): {rmse}\")"
   ]
  },
  {
   "cell_type": "code",
   "execution_count": 22,
   "metadata": {},
   "outputs": [
    {
     "name": "stdout",
     "output_type": "stream",
     "text": [
      "Accuracy: 54.12%\n"
     ]
    }
   ],
   "source": [
    "wrongPre = 0\n",
    "totalPre = len(Ypred)\n",
    "eps = 5\n",
    "for i in range(totalPre):\n",
    "    if abs(Ypred[i] - Ytest[i]) > 5:\n",
    "        wrongPre += 1\n",
    "\n",
    "print(f'Accuracy: {(1 - wrongPre / totalPre) * 100:.2f}%')"
   ]
  },
  {
   "cell_type": "markdown",
   "metadata": {},
   "source": [
    "Random Forest"
   ]
  },
  {
   "cell_type": "code",
   "execution_count": 23,
   "metadata": {},
   "outputs": [],
   "source": [
    "features = np.array(df[['Phase', '0', '1', '2', '3', '4', '5', '6', '7']].values)\n",
    "labels = np.array(df['Score'].values)\n",
    "Xtrain, Xtest, Ytrain, Ytest = train_test_split(features, labels, test_size=0.2, random_state=42)"
   ]
  },
  {
   "cell_type": "code",
   "execution_count": 24,
   "metadata": {},
   "outputs": [
    {
     "name": "stdout",
     "output_type": "stream",
     "text": [
      "Mean Squared Error (MSE): 3.1750045955882356\n",
      "R-squared (R2): 0.976485214386392\n"
     ]
    }
   ],
   "source": [
    "# Tạo mô hình Random Forest Regression\n",
    "rf_model = RandomForestRegressor(n_estimators=100, random_state=42)  # Bạn có thể tùy chỉnh số cây và các siêu tham số khác\n",
    "\n",
    "# Huấn luyện mô hình trên tập huấn luyện\n",
    "rf_model.fit(Xtrain, Ytrain)\n",
    "\n",
    "# Dự đoán trên tập kiểm tra\n",
    "Ypred = rf_model.predict(Xtest)\n",
    "\n",
    "# Đánh giá mô hình\n",
    "mse = mean_squared_error(Ytest, Ypred)\n",
    "r2 = r2_score(Ytest, Ypred)\n",
    "\n",
    "print(f\"Mean Squared Error (MSE): {mse}\")\n",
    "print(f\"R-squared (R2): {r2}\")"
   ]
  },
  {
   "cell_type": "code",
   "execution_count": 25,
   "metadata": {},
   "outputs": [
    {
     "data": {
      "text/plain": [
       "array([100,  91,  99, 100,  75,  70, 100,  75, 100,  71,  81, 100,  80,\n",
       "        79,  80, 100,  66,  80,  85,  90,  97,  99,  96,  80,  91,  98,\n",
       "        71,  99,  88, 100,  67, 100,  80, 100,  80,  67, 100,  98, 100,\n",
       "        80,  84,  80, 100,  80,  71, 100, 100,  80,  95,  79,  80,  80,\n",
       "        80, 100,  99,  80, 100,  94,  79,  80,  99,  79,  98, 100,  80,\n",
       "        97,  96,  90,  78, 100, 100, 100,  80,  94,  61, 100,  70,  80,\n",
       "        79,  98,  70,  81,  69,  71,  79, 100,  75, 100,  76,  80,  73,\n",
       "        74, 100, 100,  99, 100,  90,  72, 100, 100,  95,  71, 100, 100,\n",
       "       100,  73, 100,  80,  99, 100,  90,  70,  80,  99,  88,  80,  90,\n",
       "        96,  79,  70,  80, 100, 100,  80,  80,  90,  97,  72,  99, 100,\n",
       "        80,  80,  80,  98,  79, 100, 100,  80,  70,  99, 100,  90,  90,\n",
       "        97,  80, 100, 100,  90, 100, 100,  90,  80,  88,  90,  80,  80,\n",
       "        79,  79, 100,  80,  62,  70, 100, 100,  79,  92,  95, 100,  72,\n",
       "       100])"
      ]
     },
     "execution_count": 25,
     "metadata": {},
     "output_type": "execute_result"
    }
   ],
   "source": [
    "Ypred = Ypred.astype(int)\n",
    "Ypred"
   ]
  },
  {
   "cell_type": "code",
   "execution_count": 26,
   "metadata": {},
   "outputs": [
    {
     "data": {
      "text/plain": [
       "array([100,  80, 100, 100,  70,  70, 100,  70, 100,  70,  80, 100,  80,\n",
       "        80,  80, 100,  70,  80,  85,  90, 100, 100, 100,  80,  90, 100,\n",
       "        70, 100,  90, 100,  70, 100,  80, 100,  80,  70, 100, 100, 100,\n",
       "        80,  85,  80, 100,  80,  70, 100, 100,  80,  95,  80,  80,  80,\n",
       "        80, 100, 100,  80, 100,  95,  80,  80, 100,  80, 100, 100,  80,\n",
       "       100, 100,  90,  80, 100, 100, 100,  80,  95,  60, 100,  70,  80,\n",
       "        80, 100,  70,  85,  70,  70,  80, 100,  70, 100,  80,  80,  80,\n",
       "        70, 100, 100, 100, 100,  90,  70, 100, 100,  95,  70, 100, 100,\n",
       "       100,  70, 100,  80, 100, 100,  90,  70,  80, 100,  95,  80,  90,\n",
       "        95,  80,  70,  80, 100, 100,  80,  80,  90, 100,  70, 100, 100,\n",
       "        80,  80,  80, 100,  80, 100, 100,  80,  70, 100, 100,  90,  95,\n",
       "       100,  80, 100, 100,  90, 100, 100,  90,  80,  90,  90,  80,  80,\n",
       "        80,  80, 100,  80,  60,  70, 100, 100,  80,  90,  95, 100,  70,\n",
       "       100])"
      ]
     },
     "execution_count": 26,
     "metadata": {},
     "output_type": "execute_result"
    }
   ],
   "source": [
    "Ytest"
   ]
  },
  {
   "cell_type": "code",
   "execution_count": 27,
   "metadata": {},
   "outputs": [
    {
     "name": "stdout",
     "output_type": "stream",
     "text": [
      "Accuracy: 98.24%\n"
     ]
    }
   ],
   "source": [
    "wrongPre = 0\n",
    "totalPre = len(Ypred)\n",
    "eps = 5\n",
    "for i in range(totalPre):\n",
    "    if abs(Ypred[i] - Ytest[i]) > 5:\n",
    "        wrongPre += 1\n",
    "\n",
    "print(f'Accuracy: {(1 - wrongPre / totalPre) * 100:.2f}%')"
   ]
  }
 ],
 "metadata": {
  "kernelspec": {
   "display_name": "Python 3",
   "language": "python",
   "name": "python3"
  },
  "language_info": {
   "codemirror_mode": {
    "name": "ipython",
    "version": 3
   },
   "file_extension": ".py",
   "mimetype": "text/x-python",
   "name": "python",
   "nbconvert_exporter": "python",
   "pygments_lexer": "ipython3",
   "version": "3.10.12"
  }
 },
 "nbformat": 4,
 "nbformat_minor": 2
}
