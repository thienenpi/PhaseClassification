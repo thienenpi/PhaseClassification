{
 "cells": [
  {
   "cell_type": "code",
   "execution_count": 1,
   "metadata": {},
   "outputs": [],
   "source": [
    "import cv2\n",
    "import os\n",
    "import mediapipe as mp\n",
    "import numpy as np\n",
    "import random\n",
    "import pandas as pd\n",
    "import pickle\n",
    "import ast\n",
    "from utilities import *\n",
    "from joint_angles import JointAngle, Angles\n",
    "from body_parts import BodyPart\n",
    "from sklearn.model_selection import train_test_split\n",
    "from sklearn.utils import shuffle\n",
    "from sklearn.linear_model import LinearRegression\n",
    "from sklearn.preprocessing import StandardScaler\n",
    "from sklearn.cluster import KMeans\n",
    "from sklearn import svm\n",
    "from sklearn.tree import DecisionTreeClassifier\n",
    "from sklearn.metrics import accuracy_score\n",
    "from statsmodels.tools.eval_measures import mse"
   ]
  },
  {
   "cell_type": "code",
   "execution_count": 2,
   "metadata": {},
   "outputs": [],
   "source": [
    "fileName = '../dataset/angles_final.csv'\n",
    "df = pd.read_csv(fileName)\n",
    "df = df.drop('Unnamed: 0', axis=1)"
   ]
  },
  {
   "cell_type": "code",
   "execution_count": null,
   "metadata": {},
   "outputs": [],
   "source": [
    "df['Angles'] = df['Angles'].apply(ast.literal_eval)"
   ]
  },
  {
   "cell_type": "code",
   "execution_count": null,
   "metadata": {},
   "outputs": [],
   "source": [
    "features = df['Angles'].to_list()\n",
    "labels = df['Phase'].to_list()"
   ]
  },
  {
   "cell_type": "code",
   "execution_count": null,
   "metadata": {},
   "outputs": [],
   "source": [
    "Xtrain, Xtest, Ytrain, Ytest = train_test_split(features, labels, test_size=0.2, random_state=42)"
   ]
  },
  {
   "cell_type": "markdown",
   "metadata": {},
   "source": [
    "Decision Tree"
   ]
  },
  {
   "cell_type": "code",
   "execution_count": null,
   "metadata": {},
   "outputs": [],
   "source": [
    "clf = DecisionTreeClassifier()\n",
    "clf.fit(Xtrain, Ytrain)\n",
    "Ypred = clf.predict(Xtest)\n",
    "accuracy = accuracy_score(Ytest, Ypred)\n",
    "print(f\"Accuracy: {accuracy * 100:.2f}%\")"
   ]
  },
  {
   "cell_type": "code",
   "execution_count": null,
   "metadata": {},
   "outputs": [],
   "source": [
    "filename = '../model/PhaseClassifier.pickle'\n",
    "pickle.dump(clf, open(filename, \"wb\"))"
   ]
  },
  {
   "cell_type": "code",
   "execution_count": null,
   "metadata": {},
   "outputs": [],
   "source": [
    "scores = {\n",
    "    'Neck': [],\n",
    "    'Left Arm': [],\n",
    "    'Right Arm': [],\n",
    "    'Back': [],\n",
    "    'Abdomen': [],\n",
    "    'Internal': [],\n",
    "    'Left Leg': [],\n",
    "    'Right Leg': [],\n",
    "    'Angle': [],\n",
    "}"
   ]
  },
  {
   "cell_type": "code",
   "execution_count": null,
   "metadata": {},
   "outputs": [],
   "source": [
    "degrees = 180\n",
    "\n",
    "for degree in range(degrees + 1):\n",
    "    score = 0\n",
    "    scores['Angle'].append(degree)\n",
    "    \n",
    "    for i, angle in enumerate(scores):\n",
    "        if i == 8:\n",
    "            continue\n",
    "        delta = abs(degree - angles[i])\n",
    "        score = round((1 - delta / degrees) * 100)\n",
    "        scores[str(angle)].append(score)    "
   ]
  },
  {
   "cell_type": "code",
   "execution_count": null,
   "metadata": {},
   "outputs": [],
   "source": [
    "data = {\n",
    "    'Angles': [],\n",
    "    'Score': []\n",
    "}\n",
    "for i in range(0, 1000):\n",
    "    score = 0\n",
    "    angles = []\n",
    "\n",
    "    for angle in selectedAngles:\n",
    "        degree = random.randint(0, 180)\n",
    "        score += df[angle][degree]\n",
    "        angles.append(np.array(degree))\n",
    "    data['Angles'].append(np.array(angles))\n",
    "    data['Score'].append(np.array(round(score / 8)))\n",
    "\n",
    "data = pd.DataFrame(data)\n",
    "# data        "
   ]
  },
  {
   "cell_type": "code",
   "execution_count": null,
   "metadata": {},
   "outputs": [],
   "source": [
    "for i in range(0, 1000):\n",
    "    if abs(data['Angles'][i][3] - data['Angles'][i][6]) > 5:\n",
    "        data['Angles'][i][3] = data['Angles'][i][6] + random.randint(-4, 4)"
   ]
  },
  {
   "cell_type": "code",
   "execution_count": null,
   "metadata": {},
   "outputs": [],
   "source": [
    "for i in range(len(data)):\n",
    "    if data['Angles'][i][3] < 90 or data['Angles'][i][6] < 90:\n",
    "        data['Score'][i] = 1\n",
    "    else:\n",
    "        data['Score'][i] = 0"
   ]
  },
  {
   "cell_type": "code",
   "execution_count": null,
   "metadata": {},
   "outputs": [],
   "source": [
    "data = {\n",
    "    'Angles': [],\n",
    "    'Score': []\n",
    "}\n",
    "\n",
    "angles = []\n",
    "for angle in selectedAngles:\n",
    "    if 1 < df[angle].min():\n",
    "        index = df[df[angle] == df[angle].min()]['Angle'].iloc[0]\n",
    "    elif 1 > df[angle].max():\n",
    "        index = df[df[angle] == df[angle].max()]['Angle'].iloc[0]\n",
    "    else:\n",
    "        index = df[df[angle] == 1]['Angle'].iloc[0]\n",
    "    print(index)\n"
   ]
  },
  {
   "cell_type": "code",
   "execution_count": null,
   "metadata": {},
   "outputs": [],
   "source": [
    "data = {\n",
    "    'Angles': [],\n",
    "    'Score': []\n",
    "}\n",
    "\n",
    "for score in range(0, 101):\n",
    "    angles = []\n",
    "    for angle in selectedAngles:\n",
    "        if score < df[angle].min():\n",
    "            index = df[df[angle] == df[angle].min()]['Angle'].iloc[0]\n",
    "        elif score > df[angle].max():\n",
    "            index = df[df[angle] == df[angle].max()]['Angle'].iloc[0]\n",
    "        else:\n",
    "            index = df[df[angle] == score]['Angle'].iloc[0]\n",
    "        angles.append(np.array(index))\n",
    "    angles = np.array(angles)\n",
    "\n",
    "    data['Angles'].append(angles)\n",
    "    data['Score'].append(score)\n",
    "\n",
    "data = pd.DataFrame(data)\n",
    "data\n",
    "        "
   ]
  },
  {
   "cell_type": "markdown",
   "metadata": {},
   "source": [
    "KMeans"
   ]
  },
  {
   "cell_type": "code",
   "execution_count": null,
   "metadata": {},
   "outputs": [],
   "source": [
    "n_clusters = 3\n",
    "kmeans = KMeans(n_clusters=n_clusters, random_state=42)\n",
    "kmeans.fit(features)"
   ]
  },
  {
   "cell_type": "code",
   "execution_count": null,
   "metadata": {},
   "outputs": [],
   "source": [
    "data = df.to_dict()\n",
    "data['Cluster'] = kmeans.labels_\n",
    "accuracy = accuracy_score(labels, data['Cluster'])\n",
    "print(f\"Accuracy: {accuracy * 100:.2f}%\")"
   ]
  },
  {
   "cell_type": "markdown",
   "metadata": {},
   "source": [
    "SVR"
   ]
  },
  {
   "cell_type": "code",
   "execution_count": 3,
   "metadata": {},
   "outputs": [],
   "source": [
    "# Convert the string representation of Angles into separate columns\n",
    "df['Angles'] = df['Angles'].apply(lambda x: [int(val) for val in x.strip('[]').split(', ')])\n",
    "\n",
    "# Split the Angles list into separate columns\n",
    "df = pd.concat([df, df['Angles'].apply(pd.Series)], axis=1)\n",
    "df.drop('Angles', axis=1, inplace=True)\n",
    "\n",
    "# Convert the Phase column to integers\n",
    "df['Phase'] = df['Phase'].astype(int)"
   ]
  },
  {
   "cell_type": "code",
   "execution_count": 19,
   "metadata": {},
   "outputs": [],
   "source": [
    "df.columns = df.columns.astype(str)"
   ]
  },
  {
   "cell_type": "code",
   "execution_count": 21,
   "metadata": {},
   "outputs": [],
   "source": [
    "features = (df[['Phase', '0', '1' , '2', '3', '4', '5', '6', '7']])\n",
    "labels = (df['Score'])"
   ]
  },
  {
   "cell_type": "code",
   "execution_count": 22,
   "metadata": {},
   "outputs": [],
   "source": [
    "Xtrain, Xtest, Ytrain, Ytest = train_test_split(features, labels, test_size=0.2, random_state=42)"
   ]
  },
  {
   "cell_type": "code",
   "execution_count": 25,
   "metadata": {},
   "outputs": [
    {
     "name": "stdout",
     "output_type": "stream",
     "text": [
      "Accuracy: 41.30%\n"
     ]
    }
   ],
   "source": [
    "svr = svm.SVR(kernel='linear')\n",
    "svr.fit(Xtrain, Ytrain)\n",
    "Ypred = svr.predict(Xtest)\n",
    "Ypred = Ypred.astype(int)\n",
    "np.array(Ytest)\n",
    "accuracy = accuracy_score(Ytest, Ypred)\n",
    "print(f\"Accuracy: {accuracy * 100:.2f}%\")"
   ]
  },
  {
   "cell_type": "markdown",
   "metadata": {},
   "source": [
    "Linear Regression"
   ]
  },
  {
   "cell_type": "code",
   "execution_count": 24,
   "metadata": {},
   "outputs": [
    {
     "name": "stdout",
     "output_type": "stream",
     "text": [
      "Accuracy: 16.60%\n"
     ]
    }
   ],
   "source": [
    "model = LinearRegression()\n",
    "reg = model.fit(Xtrain, Ytrain)\n",
    "Ypred = reg.predict(Xtest)\n",
    "Ypred = Ypred.astype(int)\n",
    "accuracy = accuracy_score(Ytest, Ypred)\n",
    "print(f\"Accuracy: {accuracy * 100:.2f}%\")"
   ]
  },
  {
   "cell_type": "code",
   "execution_count": null,
   "metadata": {},
   "outputs": [],
   "source": [
    "filename = '../model/ScoreClassifier.pickle'\n",
    "pickle.dump(svr, open(filename, \"wb\"))"
   ]
  }
 ],
 "metadata": {
  "kernelspec": {
   "display_name": "base",
   "language": "python",
   "name": "python3"
  },
  "language_info": {
   "codemirror_mode": {
    "name": "ipython",
    "version": 3
   },
   "file_extension": ".py",
   "mimetype": "text/x-python",
   "name": "python",
   "nbconvert_exporter": "python",
   "pygments_lexer": "ipython3",
   "version": "3.10.12"
  },
  "orig_nbformat": 4
 },
 "nbformat": 4,
 "nbformat_minor": 2
}
